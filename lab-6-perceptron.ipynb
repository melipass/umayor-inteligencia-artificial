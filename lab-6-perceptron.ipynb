{
 "cells": [
  {
   "cell_type": "markdown",
   "id": "b2842947",
   "metadata": {},
   "source": [
    "<img src=\"https://raw.githubusercontent.com/melipass/umayor-ui-proyectos/main/logo-escuela.png\" width=\"400\" align=\"left\" style=\"margin-bottom:20px;margin-right:20px;margin-top:25px\">\n",
    "   \n",
    "# Inteligencia Artificial\n",
    "## Experiencia de Laboratorio 6: Perceptrón simple\n"
   ]
  },
  {
   "cell_type": "markdown",
   "id": "14842701",
   "metadata": {},
   "source": [
    "## Objetivo del laboratorio\n",
    "Comprobar el funcionamiento de los modelos de redes neuronales correspondientes al perceptrón simple."
   ]
  },
  {
   "cell_type": "markdown",
   "id": "ded8f362",
   "metadata": {},
   "source": [
    "## Conceptos\n",
    "### Perceptrón\n",
    "El perceptrón es la red neuronal más básica, de una sola capa y con una función de activación de escalón. El perceptrón se utiliza para la clasificación binaria de datos."
   ]
  },
  {
   "cell_type": "markdown",
   "id": "308e512e",
   "metadata": {},
   "source": [
    "## Desarrollo\n",
    "### 1. Implementar el perceptrón\n",
    "\n",
    ">Implementar un perceptrón simple y genérico en Python con una función de activación. Ajustar los pesos en cada iteración según corresponda, y entregar una salida acorde a la entrada recibida.\n",
    "\n",
    "Como primer paso, inicializamos el notebook con las librerías requeridas para trabajar. De ser necesario, hay que instalarlas."
   ]
  },
  {
   "cell_type": "code",
   "execution_count": 1,
   "id": "c3e87436",
   "metadata": {},
   "outputs": [
    {
     "data": {
      "text/html": [
       "\n",
       "<style>\n",
       ".output_png {\n",
       "    display: table-cell;\n",
       "    text-align: center;\n",
       "    vertical-align: middle;\n",
       "}\n",
       "</style>\n"
      ],
      "text/plain": [
       "<IPython.core.display.HTML object>"
      ]
     },
     "execution_count": 1,
     "metadata": {},
     "output_type": "execute_result"
    }
   ],
   "source": [
    "#!pip install seaborn\n",
    "#!pip install numpy\n",
    "#!pip install matplotlib\n",
    "#!pip install pandas\n",
    "#!pip install graphviz\n",
    "\n",
    "import seaborn as sn\n",
    "import numpy as np\n",
    "import matplotlib.pyplot as plt\n",
    "%matplotlib inline\n",
    "plt.rcParams['figure.figsize'] = [6, 4]\n",
    "plt.rcParams['figure.dpi'] = 100\n",
    "import pandas as pd\n",
    "import itertools\n",
    "from graphviz import Digraph\n",
    "from IPython.core.display import HTML\n",
    "HTML(\"\"\"\n",
    "<style>\n",
    ".output_png {\n",
    "    display: table-cell;\n",
    "    text-align: center;\n",
    "    vertical-align: middle;\n",
    "}\n",
    "</style>\n",
    "\"\"\")"
   ]
  },
  {
   "cell_type": "markdown",
   "id": "d51cbcdf",
   "metadata": {},
   "source": [
    "Según lo visto en clases, la función de activación del perceptrón es la de escalón, y será la utilizada en este notebook. Esta está definida de la siguiente manera:\n",
    "\n",
    "$$ \\theta(z)=   \\left\\{\n",
    "\\begin{array}{ll}\n",
    "      1 & z \\geq 0 \\\\\n",
    "      0 & z < 0 \\\\\n",
    "\\end{array} \n",
    "\\right.  $$\n",
    "\n",
    "En donde el valor de $z$ corresponde a el valor ingresado en la función de activación $\\theta$, y la salida de la función solo tiene dos posibles valores: $0$ y $1$."
   ]
  },
  {
   "cell_type": "code",
   "execution_count": 2,
   "id": "72b7e3b9",
   "metadata": {},
   "outputs": [],
   "source": [
    "# Función de activación del perceptrón\n",
    "def theta(z):\n",
    "    return 1.0 if (z > 0) else 0.0"
   ]
  },
  {
   "cell_type": "code",
   "execution_count": 3,
   "id": "e3c971a5",
   "metadata": {},
   "outputs": [
    {
     "data": {
      "image/png": "[encoded data removed]",
      "text/plain": [
       "<Figure size 600x400 with 1 Axes>"
      ]
     },
     "metadata": {
      "needs_background": "light"
     },
     "output_type": "display_data"
    }
   ],
   "source": [
    "# Gráfico que representa la función de activación anterior\n",
    "x = [-10,0,1,10] \n",
    "y = [0,0,1,1]\n",
    "plt.step(x, y)\n",
    "plt.show()"
   ]
  },
  {
   "cell_type": "markdown",
   "id": "3880cc11",
   "metadata": {},
   "source": [
    "Usando esta función de activación, definiremos nuestro perceptrón como:\n",
    "\n",
    "$$\n",
    "y(\\boldsymbol{x},\\boldsymbol{w},b) = \\theta(\\boldsymbol{w}\\cdot\\boldsymbol{x}+b) = \\theta(w_1x_1+w_2x_2+\\dots+w_nx_n+b)\n",
    "$$\n",
    "\n",
    "\n",
    "Donde el vector $\\boldsymbol{x}$ corresponde a las entradas del perceptrón y el vector $\\boldsymbol{w}$ corresponde al peso asignado a cada uno. Esto se suma para después aplicar la función de activación, y queda nuestro perceptrón de la siguiente manera:"
   ]
  },
  {
   "cell_type": "code",
   "execution_count": 4,
   "id": "2bf495f9",
   "metadata": {},
   "outputs": [],
   "source": [
    "def perceptron(x,w,b):\n",
    "    entrada_theta = np.dot(w,x)+b\n",
    "    return theta(entrada_theta)"
   ]
  },
  {
   "cell_type": "markdown",
   "id": "c366fc1d",
   "metadata": {},
   "source": [
    "El código de arriba contiene una función de producto punto que suma la multiplicación de cada elemento de los vectores, agregando el valor $b$ al final y almacenando el resultado en la variable ```entrada_theta```:\n",
    "\n",
    "$$\\text{entrada_theta} = \\left(\\Sigma w_ix_i\\right)+b$$\n",
    "\n",
    "Ese resultado se ingresa en la función de activación que definimos como $\\theta$, la que luego nos devolverá el resultado del perceptrón. Visualmente, esto fluye así:"
   ]
  },
  {
   "cell_type": "code",
   "execution_count": 5,
   "id": "4f474bc1",
   "metadata": {},
   "outputs": [
    {
     "data": {
      "image/svg+xml": [
       "<?xml version=\"1.0\" encoding=\"UTF-8\" standalone=\"no\"?>\r\n",
       "<!DOCTYPE svg PUBLIC \"-//W3C//DTD SVG 1.1//EN\"\r\n",
       " \"http://www.w3.org/Graphics/SVG/1.1/DTD/svg11.dtd\">\r\n",
       "<!-- Generated by graphviz version 2.47.2 (20210527.0053)\r\n",
       " -->\r\n",
       "<!-- Pages: 1 -->\r\n",
       "<svg width=\"332pt\" height=\"236pt\"\r\n",
       " viewBox=\"0.00 0.00 332.00 236.00\" xmlns=\"http://www.w3.org/2000/svg\" xmlns:xlink=\"http://www.w3.org/1999/xlink\">\r\n",
       "<g id=\"graph0\" class=\"graph\" transform=\"scale(1 1) rotate(0) translate(4 232)\">\r\n",
       "<polygon fill=\"white\" stroke=\"transparent\" points=\"-4,4 -4,-232 328,-232 328,4 -4,4\"/>\r\n",
       "<text text-anchor=\"middle\" x=\"162\" y=\"-208\" font-family=\"Times New Roman,serif\" font-size=\"20.00\">Perceptrón genérico</text>\r\n",
       "<!-- x_1 -->\r\n",
       "<g id=\"node1\" class=\"node\">\r\n",
       "<title>x_1</title>\r\n",
       "<ellipse fill=\"none\" stroke=\"black\" cx=\"18\" cy=\"-180\" rx=\"18\" ry=\"18\"/>\r\n",
       "<text text-anchor=\"middle\" x=\"18\" y=\"-176.3\" font-family=\"Times New Roman,serif\" font-size=\"14.00\">x_1</text>\r\n",
       "</g>\r\n",
       "<!-- w_1 -->\r\n",
       "<g id=\"node5\" class=\"node\">\r\n",
       "<title>w_1</title>\r\n",
       "<ellipse fill=\"none\" stroke=\"black\" cx=\"90\" cy=\"-180\" rx=\"18\" ry=\"18\"/>\r\n",
       "<text text-anchor=\"middle\" x=\"90\" y=\"-176.3\" font-family=\"Times New Roman,serif\" font-size=\"14.00\">w_1</text>\r\n",
       "</g>\r\n",
       "<!-- x_1&#45;&gt;w_1 -->\r\n",
       "<g id=\"edge4\" class=\"edge\">\r\n",
       "<title>x_1&#45;&gt;w_1</title>\r\n",
       "<path fill=\"none\" stroke=\"black\" d=\"M36.3,-180C44.02,-180 53.29,-180 61.89,-180\"/>\r\n",
       "<polygon fill=\"black\" stroke=\"black\" points=\"61.9,-183.5 71.9,-180 61.9,-176.5 61.9,-183.5\"/>\r\n",
       "</g>\r\n",
       "<!-- x_2 -->\r\n",
       "<g id=\"node2\" class=\"node\">\r\n",
       "<title>x_2</title>\r\n",
       "<ellipse fill=\"none\" stroke=\"black\" cx=\"18\" cy=\"-126\" rx=\"18\" ry=\"18\"/>\r\n",
       "<text text-anchor=\"middle\" x=\"18\" y=\"-122.3\" font-family=\"Times New Roman,serif\" font-size=\"14.00\">x_2</text>\r\n",
       "</g>\r\n",
       "<!-- w_2 -->\r\n",
       "<g id=\"node6\" class=\"node\">\r\n",
       "<title>w_2</title>\r\n",
       "<ellipse fill=\"none\" stroke=\"black\" cx=\"90\" cy=\"-126\" rx=\"18\" ry=\"18\"/>\r\n",
       "<text text-anchor=\"middle\" x=\"90\" y=\"-122.3\" font-family=\"Times New Roman,serif\" font-size=\"14.00\">w_2</text>\r\n",
       "</g>\r\n",
       "<!-- x_2&#45;&gt;w_2 -->\r\n",
       "<g id=\"edge10\" class=\"edge\">\r\n",
       "<title>x_2&#45;&gt;w_2</title>\r\n",
       "<path fill=\"none\" stroke=\"black\" d=\"M36.3,-126C44.02,-126 53.29,-126 61.89,-126\"/>\r\n",
       "<polygon fill=\"black\" stroke=\"black\" points=\"61.9,-129.5 71.9,-126 61.9,-122.5 61.9,-129.5\"/>\r\n",
       "</g>\r\n",
       "<!-- ⋮ -->\r\n",
       "<g id=\"node3\" class=\"node\">\r\n",
       "<title>⋮</title>\r\n",
       "<ellipse fill=\"none\" stroke=\"black\" cx=\"18\" cy=\"-72\" rx=\"18\" ry=\"18\"/>\r\n",
       "<text text-anchor=\"middle\" x=\"18\" y=\"-68.3\" font-family=\"Times New Roman,serif\" font-size=\"14.00\">⋮</text>\r\n",
       "</g>\r\n",
       "<!-- ⋮  -->\r\n",
       "<g id=\"node7\" class=\"node\">\r\n",
       "<title>⋮ </title>\r\n",
       "<ellipse fill=\"none\" stroke=\"black\" cx=\"90\" cy=\"-72\" rx=\"18\" ry=\"18\"/>\r\n",
       "<text text-anchor=\"middle\" x=\"90\" y=\"-68.3\" font-family=\"Times New Roman,serif\" font-size=\"14.00\">⋮ </text>\r\n",
       "</g>\r\n",
       "<!-- ⋮&#45;&gt;⋮  -->\r\n",
       "<g id=\"edge3\" class=\"edge\">\r\n",
       "<title>⋮&#45;&gt;⋮ </title>\r\n",
       "<path fill=\"none\" stroke=\"black\" d=\"M36.3,-72C44.02,-72 53.29,-72 61.89,-72\"/>\r\n",
       "<polygon fill=\"black\" stroke=\"black\" points=\"61.9,-75.5 71.9,-72 61.9,-68.5 61.9,-75.5\"/>\r\n",
       "</g>\r\n",
       "<!-- x_n -->\r\n",
       "<g id=\"node4\" class=\"node\">\r\n",
       "<title>x_n</title>\r\n",
       "<ellipse fill=\"none\" stroke=\"black\" cx=\"18\" cy=\"-18\" rx=\"18\" ry=\"18\"/>\r\n",
       "<text text-anchor=\"middle\" x=\"18\" y=\"-14.3\" font-family=\"Times New Roman,serif\" font-size=\"14.00\">x_n</text>\r\n",
       "</g>\r\n",
       "<!-- w_n -->\r\n",
       "<g id=\"node8\" class=\"node\">\r\n",
       "<title>w_n</title>\r\n",
       "<ellipse fill=\"none\" stroke=\"black\" cx=\"90\" cy=\"-18\" rx=\"18\" ry=\"18\"/>\r\n",
       "<text text-anchor=\"middle\" x=\"90\" y=\"-14.3\" font-family=\"Times New Roman,serif\" font-size=\"14.00\">w_n</text>\r\n",
       "</g>\r\n",
       "<!-- x_n&#45;&gt;w_n -->\r\n",
       "<g id=\"edge5\" class=\"edge\">\r\n",
       "<title>x_n&#45;&gt;w_n</title>\r\n",
       "<path fill=\"none\" stroke=\"black\" d=\"M36.3,-18C44.02,-18 53.29,-18 61.89,-18\"/>\r\n",
       "<polygon fill=\"black\" stroke=\"black\" points=\"61.9,-21.5 71.9,-18 61.9,-14.5 61.9,-21.5\"/>\r\n",
       "</g>\r\n",
       "<!-- Σ -->\r\n",
       "<g id=\"node9\" class=\"node\">\r\n",
       "<title>Σ</title>\r\n",
       "<ellipse fill=\"none\" stroke=\"black\" cx=\"162\" cy=\"-99\" rx=\"18\" ry=\"18\"/>\r\n",
       "<text text-anchor=\"middle\" x=\"162\" y=\"-95.3\" font-family=\"Times New Roman,serif\" font-size=\"14.00\">Σ</text>\r\n",
       "</g>\r\n",
       "<!-- w_1&#45;&gt;Σ -->\r\n",
       "<g id=\"edge1\" class=\"edge\">\r\n",
       "<title>w_1&#45;&gt;Σ</title>\r\n",
       "<path fill=\"none\" stroke=\"black\" d=\"M102.56,-166.62C113.57,-153.89 130.3,-134.52 143.05,-119.77\"/>\r\n",
       "<polygon fill=\"black\" stroke=\"black\" points=\"145.77,-121.98 149.66,-112.13 140.47,-117.4 145.77,-121.98\"/>\r\n",
       "</g>\r\n",
       "<!-- w_2&#45;&gt;Σ -->\r\n",
       "<g id=\"edge6\" class=\"edge\">\r\n",
       "<title>w_2&#45;&gt;Σ</title>\r\n",
       "<path fill=\"none\" stroke=\"black\" d=\"M107.24,-119.74C115.63,-116.5 126.07,-112.47 135.5,-108.83\"/>\r\n",
       "<polygon fill=\"black\" stroke=\"black\" points=\"136.78,-112.09 144.85,-105.23 134.26,-105.56 136.78,-112.09\"/>\r\n",
       "</g>\r\n",
       "<!-- ⋮ &#45;&gt;Σ -->\r\n",
       "<g id=\"edge2\" class=\"edge\">\r\n",
       "<title>⋮ &#45;&gt;Σ</title>\r\n",
       "<path fill=\"none\" stroke=\"black\" d=\"M107.24,-78.26C115.63,-81.5 126.07,-85.53 135.5,-89.17\"/>\r\n",
       "<polygon fill=\"black\" stroke=\"black\" points=\"134.26,-92.44 144.85,-92.77 136.78,-85.91 134.26,-92.44\"/>\r\n",
       "</g>\r\n",
       "<!-- w_n&#45;&gt;Σ -->\r\n",
       "<g id=\"edge8\" class=\"edge\">\r\n",
       "<title>w_n&#45;&gt;Σ</title>\r\n",
       "<path fill=\"none\" stroke=\"black\" d=\"M102.56,-31.38C113.57,-44.11 130.3,-63.48 143.05,-78.23\"/>\r\n",
       "<polygon fill=\"black\" stroke=\"black\" points=\"140.47,-80.6 149.66,-85.87 145.77,-76.02 140.47,-80.6\"/>\r\n",
       "</g>\r\n",
       "<!-- θ -->\r\n",
       "<g id=\"node10\" class=\"node\">\r\n",
       "<title>θ</title>\r\n",
       "<ellipse fill=\"none\" stroke=\"black\" cx=\"234\" cy=\"-99\" rx=\"18\" ry=\"18\"/>\r\n",
       "<text text-anchor=\"middle\" x=\"234\" y=\"-95.3\" font-family=\"Times New Roman,serif\" font-size=\"14.00\">θ</text>\r\n",
       "</g>\r\n",
       "<!-- Σ&#45;&gt;θ -->\r\n",
       "<g id=\"edge9\" class=\"edge\">\r\n",
       "<title>Σ&#45;&gt;θ</title>\r\n",
       "<path fill=\"none\" stroke=\"black\" d=\"M180.3,-99C188.02,-99 197.29,-99 205.89,-99\"/>\r\n",
       "<polygon fill=\"black\" stroke=\"black\" points=\"205.9,-102.5 215.9,-99 205.9,-95.5 205.9,-102.5\"/>\r\n",
       "</g>\r\n",
       "<!-- y -->\r\n",
       "<g id=\"node11\" class=\"node\">\r\n",
       "<title>y</title>\r\n",
       "<ellipse fill=\"none\" stroke=\"black\" cx=\"306\" cy=\"-99\" rx=\"18\" ry=\"18\"/>\r\n",
       "<text text-anchor=\"middle\" x=\"306\" y=\"-95.3\" font-family=\"Times New Roman,serif\" font-size=\"14.00\">y</text>\r\n",
       "</g>\r\n",
       "<!-- θ&#45;&gt;y -->\r\n",
       "<g id=\"edge7\" class=\"edge\">\r\n",
       "<title>θ&#45;&gt;y</title>\r\n",
       "<path fill=\"none\" stroke=\"black\" d=\"M252.3,-99C260.02,-99 269.29,-99 277.89,-99\"/>\r\n",
       "<polygon fill=\"black\" stroke=\"black\" points=\"277.9,-102.5 287.9,-99 277.9,-95.5 277.9,-102.5\"/>\r\n",
       "</g>\r\n",
       "</g>\r\n",
       "</svg>\r\n"
      ],
      "text/plain": [
       "<graphviz.dot.Digraph at 0x17df8ad83d0>"
      ]
     },
     "execution_count": 5,
     "metadata": {},
     "output_type": "execute_result"
    }
   ],
   "source": [
    "nodos = ['x_1','x_2','⋮','x_n','w_1','w_2','⋮ ', 'w_n','Σ','θ','y']\n",
    "vertices = {('x_1','w_1'),\n",
    "           ('x_2','w_2'),\n",
    "           ('⋮','⋮ '),\n",
    "           ('x_n','w_n'),\n",
    "           ('w_1','Σ'),\n",
    "           ('w_2','Σ'),\n",
    "           ('⋮ ','Σ'),\n",
    "           ('w_n','Σ'),\n",
    "           ('Σ','θ'),\n",
    "           ('θ','y')}\n",
    "\n",
    "\n",
    "dot = Digraph(node_attr={'shape':'circle','fixedsize':'true'},\n",
    "             graph_attr={'rankdir':'LR','label':'Perceptrón genérico','labelloc':'t','fontsize':'20'})\n",
    "\n",
    "for nodo in nodos:\n",
    "    dot.node(nodo)\n",
    "    \n",
    "for vertice in vertices:\n",
    "    dot.edge(vertice[0],vertice[1])\n",
    "    \n",
    "dot"
   ]
  },
  {
   "cell_type": "markdown",
   "id": "4ea9862b",
   "metadata": {},
   "source": [
    "### 2. Probar el perceptrón en AND, OR y XOR\n",
    ">Probar el perceptrón implementado para una compuerta lógica $\\text{AND}$, $\\text{OR}$ y $\\text{XOR}$ con una entrada de tamaño 4.\n",
    "\n",
    "Para implementar perceptrones que simulen las compuertas lógicas $\\text{AND}$, $\\text{OR}$ y $\\text{XOR}$ y que tengan cuatro entradas $x_1$, $x_2$, $x_3$ y $x_4$, debemos tomar el perceptrón y ajustarlo para que quede de la siguiente manera:\n",
    "$$\n",
    "y(\\boldsymbol{x},\\boldsymbol{w},b)=\\theta(w_1x_1+w_2x_2+w_3x_3+w_4x_4+b)\n",
    "$$\n",
    "\n",
    "También, sabemos que existe un total de 16 posibles combinaciones de entradas para las compuertras con cuatro entradas, así que las dejaremos codificadas en un arreglo para probar en la parte 4:"
   ]
  },
  {
   "cell_type": "code",
   "execution_count": 6,
   "id": "8ba6b8f9",
   "metadata": {},
   "outputs": [
    {
     "name": "stdout",
     "output_type": "stream",
     "text": [
      "[[0, 0, 0, 0], [0, 0, 0, 1], [0, 0, 1, 0], [0, 0, 1, 1], [0, 1, 0, 0], [0, 1, 0, 1], [0, 1, 1, 0], [0, 1, 1, 1], [1, 0, 0, 0], [1, 0, 0, 1], [1, 0, 1, 0], [1, 0, 1, 1], [1, 1, 0, 0], [1, 1, 0, 1], [1, 1, 1, 0], [1, 1, 1, 1]]\n"
     ]
    }
   ],
   "source": [
    "l = [0,1]\n",
    "x = [list(i) for i in itertools.product(l, repeat=4)]\n",
    "print(x)"
   ]
  },
  {
   "cell_type": "markdown",
   "id": "5216e06f",
   "metadata": {},
   "source": [
    "#### 2.1. Compuerta AND\n",
    "\n",
    "La compuerta lógica $\\text{AND}$ entrega el valor $1$ solo cuando todas sus entradas son $1$. Para que el perceptrón nos entregue el valor $1$ solo cuando todos los valores son $1$, debemos asignar valores a cada peso $w$ y al valor $b$, quedando así:\n",
    "\n",
    "$$\n",
    "\\text{AND}(\\text{x})=\\theta(x_1+x_2+x_3+x_4-3.9)\n",
    "$$\n",
    "\n",
    "Donde decidimos dejar cada uno de los pesos $w_i = 1$ y el valor $b=-3.9$ para que la salida del perceptrón sea mayor a $0$ solo cuando todas las entradas valen $1$, teniendo que $1\\cdot4-3.9=0.1$, y que $0.1>0 \\Rightarrow y=1$."
   ]
  },
  {
   "cell_type": "code",
   "execution_count": 7,
   "id": "5acc10a5",
   "metadata": {},
   "outputs": [],
   "source": [
    "def compuerta_AND(x):\n",
    "    w = [1,1,1,1]\n",
    "    b = -3.9\n",
    "    return perceptron(x,w,b)"
   ]
  },
  {
   "cell_type": "markdown",
   "id": "be4ab763",
   "metadata": {},
   "source": [
    "#### 2.2. Compuerta OR\n",
    "La compuerta lógica $\\text{OR}$ también obtiene cuatro valores binarios y devuelve $1$ cuando existe al menos una entrada con valor $1$. El perceptrón queda así:\n",
    "\n",
    "$$\n",
    "\\text{OR}(\\text{x})=\\theta(x_1+x_2+x_3+x_4-0.9)\n",
    "$$\n",
    "\n",
    "Donde decidimos dejar cada uno de los pesos $w_i = 1$ y el valor $b=-0.9$. Así, el perceptrón devolverá $1$ cuando exista al menos una entrada con valor $1$, ya que $1-0.9=0.1$ y sabemos que $0.1>0\\Rightarrow y=1$."
   ]
  },
  {
   "cell_type": "code",
   "execution_count": 8,
   "id": "db7d6594",
   "metadata": {},
   "outputs": [],
   "source": [
    "def compuerta_OR(x):\n",
    "    w = [1,1,1,1]\n",
    "    b = -0.9\n",
    "    return perceptron(x,w,b)"
   ]
  },
  {
   "cell_type": "markdown",
   "id": "bd1ffe3c",
   "metadata": {},
   "source": [
    "#### 2.3. Compuerta XOR\n",
    "En el caso de la compuerta $\\text{XOR}$, sabemos que es necesario que nuestra compuerta devuelva el valor $0$ cuando todas las entradas son $0$ o $1$. Para ello, tuvimos que codificar la siguiente situación:\n",
    "\n",
    "- Encontrar la función que nos de $0$ solo cuando $\\text{AND}$ nos devuelve $1$ (en otras palabras, hacer la compuerta $\\text{NAND}$).\n",
    "- Poder combinar el resultado de la compuerta $\\text{NAND}$ con el de la compuerta $\\text{OR}$, es decir, crear un $\\text{AND}$ con dos entradas.\n",
    "\n",
    "Una vez que identificamos esos dos requisitos creamos una función para cada uno, y así pudimos crear la compuerta $\\text{XOR}$ que funciona satisfactoriamente. De esta forma, nos quedó la función $\\text{XOR}$ como:\n",
    "\n",
    "$$\n",
    "\\text{XOR}(\\text{x})=\\text{AND}(\\text{NAND}(\\text{x}),\\text{OR}(\\text{x})) = \\text{AND}(\\text{NAND}(x_1,x_2,x_3,x_4),\\text{OR}(x_1,x_2,x_3,x_4))\n",
    "$$"
   ]
  },
  {
   "cell_type": "code",
   "execution_count": 9,
   "id": "93c38375",
   "metadata": {},
   "outputs": [],
   "source": [
    "def compuerta_AND_2_entradas(x):\n",
    "    w = [1,1]\n",
    "    b = -1.9\n",
    "    return perceptron(x,w,b)\n",
    "\n",
    "def compuerta_NAND(x):\n",
    "    w = [-1,-1,-1,-1]\n",
    "    b = 3.9\n",
    "    return perceptron(x,w,b)\n",
    "\n",
    "def compuerta_XOR(x):\n",
    "    compuerta_1 = compuerta_NAND(x)\n",
    "    compuerta_2 = compuerta_OR(x)\n",
    "    return compuerta_AND_2_entradas([compuerta_1,compuerta_2])"
   ]
  },
  {
   "cell_type": "markdown",
   "id": "1e233582",
   "metadata": {},
   "source": [
    "Visualmente, las entradas pasan por las compuertas de la siguiente manera:"
   ]
  },
  {
   "cell_type": "code",
   "execution_count": 10,
   "id": "6c589de1",
   "metadata": {},
   "outputs": [
    {
     "data": {
      "image/svg+xml": [
       "<?xml version=\"1.0\" encoding=\"UTF-8\" standalone=\"no\"?>\r\n",
       "<!DOCTYPE svg PUBLIC \"-//W3C//DTD SVG 1.1//EN\"\r\n",
       " \"http://www.w3.org/Graphics/SVG/1.1/DTD/svg11.dtd\">\r\n",
       "<!-- Generated by graphviz version 2.47.2 (20210527.0053)\r\n",
       " -->\r\n",
       "<!-- Pages: 1 -->\r\n",
       "<svg width=\"576pt\" height=\"128pt\"\r\n",
       " viewBox=\"0.00 0.00 576.00 128.00\" xmlns=\"http://www.w3.org/2000/svg\" xmlns:xlink=\"http://www.w3.org/1999/xlink\">\r\n",
       "<g id=\"graph0\" class=\"graph\" transform=\"scale(1 1) rotate(0) translate(4 124)\">\r\n",
       "<polygon fill=\"white\" stroke=\"transparent\" points=\"-4,4 -4,-124 572,-124 572,4 -4,4\"/>\r\n",
       "<text text-anchor=\"middle\" x=\"284\" y=\"-100\" font-family=\"Times New Roman,serif\" font-size=\"20.00\">Perceptrón XOR</text>\r\n",
       "<!-- x_1 -->\r\n",
       "<g id=\"node1\" class=\"node\">\r\n",
       "<title>x_1</title>\r\n",
       "<ellipse fill=\"none\" stroke=\"black\" cx=\"57.5\" cy=\"-72\" rx=\"57.5\" ry=\"18\"/>\r\n",
       "<text text-anchor=\"middle\" x=\"57.5\" y=\"-68.3\" font-family=\"Times New Roman,serif\" font-size=\"14.00\">x_1</text>\r\n",
       "</g>\r\n",
       "<!-- Perceptrón NAND -->\r\n",
       "<g id=\"node3\" class=\"node\">\r\n",
       "<title>Perceptrón NAND</title>\r\n",
       "<ellipse fill=\"none\" stroke=\"black\" cx=\"208.5\" cy=\"-72\" rx=\"57.5\" ry=\"18\"/>\r\n",
       "<text text-anchor=\"middle\" x=\"208.5\" y=\"-68.3\" font-family=\"Times New Roman,serif\" font-size=\"14.00\">Perceptrón NAND</text>\r\n",
       "</g>\r\n",
       "<!-- x_1&#45;&gt;Perceptrón NAND -->\r\n",
       "<g id=\"edge7\" class=\"edge\">\r\n",
       "<title>x_1&#45;&gt;Perceptrón NAND</title>\r\n",
       "<path fill=\"none\" stroke=\"black\" d=\"M115.26,-72C123.56,-72 132.17,-72 140.65,-72\"/>\r\n",
       "<polygon fill=\"black\" stroke=\"black\" points=\"140.9,-75.5 150.9,-72 140.9,-68.5 140.9,-75.5\"/>\r\n",
       "</g>\r\n",
       "<!-- Perceptrón OR -->\r\n",
       "<g id=\"node4\" class=\"node\">\r\n",
       "<title>Perceptrón OR</title>\r\n",
       "<ellipse fill=\"none\" stroke=\"black\" cx=\"208.5\" cy=\"-18\" rx=\"57.5\" ry=\"18\"/>\r\n",
       "<text text-anchor=\"middle\" x=\"208.5\" y=\"-14.3\" font-family=\"Times New Roman,serif\" font-size=\"14.00\">Perceptrón OR</text>\r\n",
       "</g>\r\n",
       "<!-- x_1&#45;&gt;Perceptrón OR -->\r\n",
       "<g id=\"edge1\" class=\"edge\">\r\n",
       "<title>x_1&#45;&gt;Perceptrón OR</title>\r\n",
       "<path fill=\"none\" stroke=\"black\" d=\"M95.71,-58.51C115.36,-51.39 139.66,-42.58 160.59,-35\"/>\r\n",
       "<polygon fill=\"black\" stroke=\"black\" points=\"162.03,-38.2 170.24,-31.5 159.65,-31.62 162.03,-38.2\"/>\r\n",
       "</g>\r\n",
       "<!-- x_2 -->\r\n",
       "<g id=\"node2\" class=\"node\">\r\n",
       "<title>x_2</title>\r\n",
       "<ellipse fill=\"none\" stroke=\"black\" cx=\"57.5\" cy=\"-18\" rx=\"57.5\" ry=\"18\"/>\r\n",
       "<text text-anchor=\"middle\" x=\"57.5\" y=\"-14.3\" font-family=\"Times New Roman,serif\" font-size=\"14.00\">x_2</text>\r\n",
       "</g>\r\n",
       "<!-- x_2&#45;&gt;Perceptrón NAND -->\r\n",
       "<g id=\"edge2\" class=\"edge\">\r\n",
       "<title>x_2&#45;&gt;Perceptrón NAND</title>\r\n",
       "<path fill=\"none\" stroke=\"black\" d=\"M95.71,-31.49C115.36,-38.61 139.66,-47.42 160.59,-55\"/>\r\n",
       "<polygon fill=\"black\" stroke=\"black\" points=\"159.65,-58.38 170.24,-58.5 162.03,-51.8 159.65,-58.38\"/>\r\n",
       "</g>\r\n",
       "<!-- x_2&#45;&gt;Perceptrón OR -->\r\n",
       "<g id=\"edge5\" class=\"edge\">\r\n",
       "<title>x_2&#45;&gt;Perceptrón OR</title>\r\n",
       "<path fill=\"none\" stroke=\"black\" d=\"M115.26,-18C123.56,-18 132.17,-18 140.65,-18\"/>\r\n",
       "<polygon fill=\"black\" stroke=\"black\" points=\"140.9,-21.5 150.9,-18 140.9,-14.5 140.9,-21.5\"/>\r\n",
       "</g>\r\n",
       "<!-- Perceptrón AND -->\r\n",
       "<g id=\"node5\" class=\"node\">\r\n",
       "<title>Perceptrón AND</title>\r\n",
       "<ellipse fill=\"none\" stroke=\"black\" cx=\"359.5\" cy=\"-45\" rx=\"57.5\" ry=\"18\"/>\r\n",
       "<text text-anchor=\"middle\" x=\"359.5\" y=\"-41.3\" font-family=\"Times New Roman,serif\" font-size=\"14.00\">Perceptrón AND</text>\r\n",
       "</g>\r\n",
       "<!-- Perceptrón NAND&#45;&gt;Perceptrón AND -->\r\n",
       "<g id=\"edge6\" class=\"edge\">\r\n",
       "<title>Perceptrón NAND&#45;&gt;Perceptrón AND</title>\r\n",
       "<path fill=\"none\" stroke=\"black\" d=\"M258.7,-63.08C271.67,-60.73 285.8,-58.17 299.24,-55.74\"/>\r\n",
       "<polygon fill=\"black\" stroke=\"black\" points=\"300.13,-59.13 309.35,-53.91 298.89,-52.25 300.13,-59.13\"/>\r\n",
       "</g>\r\n",
       "<!-- Perceptrón OR&#45;&gt;Perceptrón AND -->\r\n",
       "<g id=\"edge4\" class=\"edge\">\r\n",
       "<title>Perceptrón OR&#45;&gt;Perceptrón AND</title>\r\n",
       "<path fill=\"none\" stroke=\"black\" d=\"M258.7,-26.92C271.67,-29.27 285.8,-31.83 299.24,-34.26\"/>\r\n",
       "<polygon fill=\"black\" stroke=\"black\" points=\"298.89,-37.75 309.35,-36.09 300.13,-30.87 298.89,-37.75\"/>\r\n",
       "</g>\r\n",
       "<!-- y -->\r\n",
       "<g id=\"node6\" class=\"node\">\r\n",
       "<title>y</title>\r\n",
       "<ellipse fill=\"none\" stroke=\"black\" cx=\"510.5\" cy=\"-45\" rx=\"57.5\" ry=\"18\"/>\r\n",
       "<text text-anchor=\"middle\" x=\"510.5\" y=\"-41.3\" font-family=\"Times New Roman,serif\" font-size=\"14.00\">y</text>\r\n",
       "</g>\r\n",
       "<!-- Perceptrón AND&#45;&gt;y -->\r\n",
       "<g id=\"edge3\" class=\"edge\">\r\n",
       "<title>Perceptrón AND&#45;&gt;y</title>\r\n",
       "<path fill=\"none\" stroke=\"black\" d=\"M417.26,-45C425.56,-45 434.17,-45 442.65,-45\"/>\r\n",
       "<polygon fill=\"black\" stroke=\"black\" points=\"442.9,-48.5 452.9,-45 442.9,-41.5 442.9,-48.5\"/>\r\n",
       "</g>\r\n",
       "</g>\r\n",
       "</svg>\r\n"
      ],
      "text/plain": [
       "<graphviz.dot.Digraph at 0x17df7a9f130>"
      ]
     },
     "execution_count": 10,
     "metadata": {},
     "output_type": "execute_result"
    }
   ],
   "source": [
    "nodos = ['x_1','x_2','Perceptrón NAND','Perceptrón OR','Perceptrón AND','y']\n",
    "vertices = {('x_1','Perceptrón NAND'),\n",
    "           ('x_2','Perceptrón NAND'),\n",
    "           ('x_1','Perceptrón OR'),\n",
    "           ('x_2','Perceptrón OR'),\n",
    "           ('Perceptrón NAND','Perceptrón AND'),\n",
    "           ('Perceptrón OR','Perceptrón AND'),\n",
    "           ('Perceptrón AND','y')}\n",
    "\n",
    "\n",
    "dot = Digraph(node_attr={'fixedsize':'true','width':'1.6'},\n",
    "             graph_attr={'rankdir':'LR','label':'Perceptrón XOR','labelloc':'t','fontsize':'20'})\n",
    "\n",
    "for nodo in nodos:\n",
    "    dot.node(nodo)\n",
    "    \n",
    "for vertice in vertices:\n",
    "    dot.edge(vertice[0],vertice[1])\n",
    "    \n",
    "dot"
   ]
  },
  {
   "cell_type": "markdown",
   "id": "b6e4f9b8",
   "metadata": {},
   "source": [
    "### 3. Probar el perceptrón con un dataset\n",
    ">Probar el perceptrón implementado para clasificar las entradas del dataset \"letters.csv\" determinando a qué letra corresponde cada entrada según las características recibidas.\n",
    "\n",
    "Primero que nada, cargamos los datos para ver con qué estamos trabajando."
   ]
  },
  {
   "cell_type": "code",
   "execution_count": 11,
   "id": "3b152069",
   "metadata": {},
   "outputs": [
    {
     "data": {
      "text/html": [
       "<div>\n",
       "<style scoped>\n",
       "    .dataframe tbody tr th:only-of-type {\n",
       "        vertical-align: middle;\n",
       "    }\n",
       "\n",
       "    .dataframe tbody tr th {\n",
       "        vertical-align: top;\n",
       "    }\n",
       "\n",
       "    .dataframe thead th {\n",
       "        text-align: right;\n",
       "    }\n",
       "</style>\n",
       "<table border=\"1\" class=\"dataframe\">\n",
       "  <thead>\n",
       "    <tr style=\"text-align: right;\">\n",
       "      <th></th>\n",
       "      <th>0</th>\n",
       "      <th>1</th>\n",
       "      <th>2</th>\n",
       "    </tr>\n",
       "  </thead>\n",
       "  <tbody>\n",
       "    <tr>\n",
       "      <th>0</th>\n",
       "      <td>0.0</td>\n",
       "      <td>0.3</td>\n",
       "      <td>o</td>\n",
       "    </tr>\n",
       "    <tr>\n",
       "      <th>1</th>\n",
       "      <td>0.3</td>\n",
       "      <td>0.0</td>\n",
       "      <td>o</td>\n",
       "    </tr>\n",
       "    <tr>\n",
       "      <th>2</th>\n",
       "      <td>0.6</td>\n",
       "      <td>0.2</td>\n",
       "      <td>o</td>\n",
       "    </tr>\n",
       "    <tr>\n",
       "      <th>3</th>\n",
       "      <td>0.5</td>\n",
       "      <td>0.1</td>\n",
       "      <td>o</td>\n",
       "    </tr>\n",
       "    <tr>\n",
       "      <th>4</th>\n",
       "      <td>0.2</td>\n",
       "      <td>0.4</td>\n",
       "      <td>o</td>\n",
       "    </tr>\n",
       "    <tr>\n",
       "      <th>...</th>\n",
       "      <td>...</td>\n",
       "      <td>...</td>\n",
       "      <td>...</td>\n",
       "    </tr>\n",
       "    <tr>\n",
       "      <th>95</th>\n",
       "      <td>0.8</td>\n",
       "      <td>0.1</td>\n",
       "      <td>l</td>\n",
       "    </tr>\n",
       "    <tr>\n",
       "      <th>96</th>\n",
       "      <td>0.6</td>\n",
       "      <td>0.7</td>\n",
       "      <td>o</td>\n",
       "    </tr>\n",
       "    <tr>\n",
       "      <th>97</th>\n",
       "      <td>1.0</td>\n",
       "      <td>0.7</td>\n",
       "      <td>o</td>\n",
       "    </tr>\n",
       "    <tr>\n",
       "      <th>98</th>\n",
       "      <td>0.9</td>\n",
       "      <td>0.0</td>\n",
       "      <td>l</td>\n",
       "    </tr>\n",
       "    <tr>\n",
       "      <th>99</th>\n",
       "      <td>0.6</td>\n",
       "      <td>0.1</td>\n",
       "      <td>o</td>\n",
       "    </tr>\n",
       "  </tbody>\n",
       "</table>\n",
       "<p>100 rows × 3 columns</p>\n",
       "</div>"
      ],
      "text/plain": [
       "      0    1  2\n",
       "0   0.0  0.3  o\n",
       "1   0.3  0.0  o\n",
       "2   0.6  0.2  o\n",
       "3   0.5  0.1  o\n",
       "4   0.2  0.4  o\n",
       "..  ...  ... ..\n",
       "95  0.8  0.1  l\n",
       "96  0.6  0.7  o\n",
       "97  1.0  0.7  o\n",
       "98  0.9  0.0  l\n",
       "99  0.6  0.1  o\n",
       "\n",
       "[100 rows x 3 columns]"
      ]
     },
     "execution_count": 11,
     "metadata": {},
     "output_type": "execute_result"
    }
   ],
   "source": [
    "df = pd.read_csv('letters.csv', header=None)\n",
    "df"
   ]
  },
  {
   "cell_type": "code",
   "execution_count": 12,
   "id": "2149f5d8",
   "metadata": {},
   "outputs": [
    {
     "data": {
      "text/plain": [
       "array(['o', 'l'], dtype=object)"
      ]
     },
     "execution_count": 12,
     "metadata": {},
     "output_type": "execute_result"
    }
   ],
   "source": [
    "df[2].unique()"
   ]
  },
  {
   "cell_type": "code",
   "execution_count": 13,
   "id": "df228064",
   "metadata": {},
   "outputs": [
    {
     "data": {
      "image/png": "[encoded data removed]",
      "text/plain": [
       "<Figure size 600x400 with 1 Axes>"
      ]
     },
     "metadata": {
      "needs_background": "light"
     },
     "output_type": "display_data"
    }
   ],
   "source": [
    "plt.scatter(df[0], df[1])#, color=\"orchid\", marker=\"x\", s=50)\n",
    "plt.title(\"Dataset 'letters.csv'\")\n",
    "plt.xlabel('Valores $x_1$')\n",
    "plt.ylabel('Valores $x_2$')\n",
    "plt.xlim([-0.2, 1.2])\n",
    "plt.ylim([-0.2, 1.2])\n",
    "plt.show()"
   ]
  },
  {
   "cell_type": "markdown",
   "id": "71fd365c",
   "metadata": {},
   "source": [
    "Todos los valores numéricos de la tabla son positivos y no tenemos información de qué significa cada uno de ellos. Asumiremos que las dos primeras columnas de cada fila $i$ corresponderán a valores de entrada $x_1$ y $x_2$ y la tercera columna será la letra a clasificar, con valor ``o`` o ``l``."
   ]
  },
  {
   "cell_type": "markdown",
   "id": "bb5cb3ec",
   "metadata": {},
   "source": [
    "A continuación pasamos los datos del dataframe a un array:"
   ]
  },
  {
   "cell_type": "code",
   "execution_count": 14,
   "id": "b8f42cb6",
   "metadata": {},
   "outputs": [],
   "source": [
    "datos = np.copy(df)\n",
    "datos = np.array(datos)"
   ]
  },
  {
   "cell_type": "markdown",
   "id": "d9c47afb",
   "metadata": {},
   "source": [
    "Creamos una función que nos devuelva un dataframe con la letra y  la salida del perceptrón. Al perceptrón le daremos las dos columnas numéricas como entradas, un peso $\\text{w}$ y un valor $b$ como variables para optimizar la clasificación en la sección 4."
   ]
  },
  {
   "cell_type": "code",
   "execution_count": 15,
   "id": "c9116d5c",
   "metadata": {},
   "outputs": [],
   "source": [
    "def perceptron_datos(x,w,b):\n",
    "    df_datos = []\n",
    "    for valor in x:\n",
    "        df_datos.append([valor[2],perceptron([valor[0],valor[1]],w,b),valor[0],valor[1]])\n",
    "    return df_datos"
   ]
  },
  {
   "cell_type": "markdown",
   "id": "23003fe3",
   "metadata": {},
   "source": [
    "### 4. Cálculo de error\n",
    ">Calcular el error obtenido en los pasos 2 y 3 durante el entrenamiento del perceptrón y expresarlo a través de un gráfico Iteración vs. Error."
   ]
  },
  {
   "cell_type": "markdown",
   "id": "1eced877",
   "metadata": {},
   "source": [
    "#### 4.1. Perceptrones de compuertas lógicas\n",
    "Para poder confirmar visualmente la existencia de un error dentro de nuestros perceptrones que implementan compuertas lógicas, decidimos hacer una función genérica para crear gráficos estilo 'serie de tiempo', donde podemos ver cómo va variando entre $0$ y $1$ el resultado de nuestros perceptrones a medida que vamos ingresando una lista de entradas. De esta manera, tendremos una guía visual de cuándo un perceptrón devuelve $0$ y cuándo devuelve $1$, y le entregaremos una función que marca el momento en el que se detecta un error para cada uno de los perceptrones."
   ]
  },
  {
   "cell_type": "code",
   "execution_count": 16,
   "id": "fd420664",
   "metadata": {},
   "outputs": [],
   "source": [
    "def graficar_compuerta(x,compuerta,detector_error,titulo):\n",
    "    h = [0]\n",
    "    v = [0]\n",
    "    i = 1\n",
    "    error_en_titulo = \"\"\n",
    "    for posible_valor in x:\n",
    "        h.append(i)\n",
    "        i += 1\n",
    "        v.append(compuerta(posible_valor))\n",
    "    plt.plot(h, v)\n",
    "    plt.scatter(h, v, color=\"orchid\", marker=\"x\", s=50)\n",
    "    plt.xticks(h)\n",
    "    plt.yticks(v)\n",
    "    if detector_error(x,compuerta) != 1:\n",
    "        x_error = int(detector_error(x,compuerta))\n",
    "        plt.axvline(x = x_error+1, color = 'red')\n",
    "        error_en_titulo = \" (Error)\"\n",
    "    plt.title(titulo+error_en_titulo)\n",
    "    plt.show()\n",
    "    df = pd.DataFrame({'Entrada': x, 'Salida': v[1:]})\n",
    "    print(df)"
   ]
  },
  {
   "cell_type": "markdown",
   "id": "1670173f",
   "metadata": {},
   "source": [
    "##### 4.1.1. Prueba AND\n",
    "\n",
    "Sabemos que para un conjunto de entradas $x_n$, donde ninguna combinación de entradas se repite, la suma de todas las posibles salidas de la compuerta $\\text{AND}$ jamás superará el valor $1$, cualquiera sea su dimensión. Teniendo esto presente, creamos la siguiente función:"
   ]
  },
  {
   "cell_type": "code",
   "execution_count": 17,
   "id": "60d8bb41",
   "metadata": {},
   "outputs": [
    {
     "name": "stdout",
     "output_type": "stream",
     "text": [
      "No se detectaron errores.\n"
     ]
    },
    {
     "data": {
      "text/plain": [
       "1"
      ]
     },
     "execution_count": 17,
     "metadata": {},
     "output_type": "execute_result"
    }
   ],
   "source": [
    "def error_compuerta_AND(x,compuerta):\n",
    "    i = 0\n",
    "    for posible_valor in x:\n",
    "        i += compuerta(posible_valor)\n",
    "        if i > 1:\n",
    "            print('Error: Existen entradas incorrectas o la lógica de la compuerta AND no es la correcta.')\n",
    "            return i\n",
    "    print(\"No se detectaron errores.\")\n",
    "    return 1\n",
    "\n",
    "error_compuerta_AND(x,compuerta_AND)"
   ]
  },
  {
   "cell_type": "markdown",
   "id": "d60221d1",
   "metadata": {},
   "source": [
    "Tomando los valores que asignamos en la sección 2, obtenemos el siguiente gráfico y la siguiente tabla, donde en el eje x tendremos el índice de la combinación de entradas y en el eje y si esta corresponde a 0 o a 1, lo que nos permitirá confirmar si hay o no hay errores."
   ]
  },
  {
   "cell_type": "code",
   "execution_count": 18,
   "id": "0fceeebe",
   "metadata": {},
   "outputs": [
    {
     "name": "stdout",
     "output_type": "stream",
     "text": [
      "No se detectaron errores.\n"
     ]
    },
    {
     "data": {
      "image/png": "[encoded data removed]",
      "text/plain": [
       "<Figure size 600x400 with 1 Axes>"
      ]
     },
     "metadata": {
      "needs_background": "light"
     },
     "output_type": "display_data"
    },
    {
     "name": "stdout",
     "output_type": "stream",
     "text": [
      "         Entrada  Salida\n",
      "0   [0, 0, 0, 0]     0.0\n",
      "1   [0, 0, 0, 1]     0.0\n",
      "2   [0, 0, 1, 0]     0.0\n",
      "3   [0, 0, 1, 1]     0.0\n",
      "4   [0, 1, 0, 0]     0.0\n",
      "5   [0, 1, 0, 1]     0.0\n",
      "6   [0, 1, 1, 0]     0.0\n",
      "7   [0, 1, 1, 1]     0.0\n",
      "8   [1, 0, 0, 0]     0.0\n",
      "9   [1, 0, 0, 1]     0.0\n",
      "10  [1, 0, 1, 0]     0.0\n",
      "11  [1, 0, 1, 1]     0.0\n",
      "12  [1, 1, 0, 0]     0.0\n",
      "13  [1, 1, 0, 1]     0.0\n",
      "14  [1, 1, 1, 0]     0.0\n",
      "15  [1, 1, 1, 1]     1.0\n"
     ]
    }
   ],
   "source": [
    "graficar_compuerta(x,compuerta_AND,error_compuerta_AND,'Salida del perceptrón para la compuerta AND')"
   ]
  },
  {
   "cell_type": "markdown",
   "id": "7cbd4fdb",
   "metadata": {},
   "source": [
    "Para poner a prueba nuestro perceptrón que implementa una compuerta, usaremos dos conjuntos: uno con valores que no deberían ser aceptados, y otro con valores repetidos. La línea roja representará la iteración desde la cual comienza a estar erróneo nuestro perceptrón bajo las reglas establecidas de no repetición y admisión exclusiva de entradas $0$ y $1$, teniendo que los valores a la derecha de la línea ya no son correctos pues harán que la suma de todas las salidas sea mayor a $1$."
   ]
  },
  {
   "cell_type": "code",
   "execution_count": 19,
   "id": "9f846e5f",
   "metadata": {},
   "outputs": [],
   "source": [
    "x_2_3 = [[2,3,3,2],[2,2,2,2],[3,3,3,3]]\n",
    "x_repetido = [[1,1,1,1],[0,1,1,1],[1,1,1,1],[1,1,0,1],[1,1,1,1],[1,1,1,1],[1,1,1,1]]"
   ]
  },
  {
   "cell_type": "code",
   "execution_count": 20,
   "id": "6fa17698",
   "metadata": {},
   "outputs": [
    {
     "name": "stdout",
     "output_type": "stream",
     "text": [
      "Error: Existen entradas incorrectas o la lógica de la compuerta AND no es la correcta.\n"
     ]
    },
    {
     "data": {
      "text/plain": [
       "2.0"
      ]
     },
     "execution_count": 20,
     "metadata": {},
     "output_type": "execute_result"
    }
   ],
   "source": [
    "error_compuerta_AND(x_2_3,compuerta_AND)"
   ]
  },
  {
   "cell_type": "code",
   "execution_count": 21,
   "id": "cd5320e9",
   "metadata": {},
   "outputs": [
    {
     "name": "stdout",
     "output_type": "stream",
     "text": [
      "Error: Existen entradas incorrectas o la lógica de la compuerta AND no es la correcta.\n",
      "Error: Existen entradas incorrectas o la lógica de la compuerta AND no es la correcta.\n"
     ]
    },
    {
     "data": {
      "image/png": "[encoded data removed]",
      "text/plain": [
       "<Figure size 600x400 with 1 Axes>"
      ]
     },
     "metadata": {
      "needs_background": "light"
     },
     "output_type": "display_data"
    },
    {
     "name": "stdout",
     "output_type": "stream",
     "text": [
      "        Entrada  Salida\n",
      "0  [2, 3, 3, 2]     1.0\n",
      "1  [2, 2, 2, 2]     1.0\n",
      "2  [3, 3, 3, 3]     1.0\n"
     ]
    }
   ],
   "source": [
    "graficar_compuerta(x_2_3,compuerta_AND,error_compuerta_AND,'Salida del perceptrón para la compuerta AND')"
   ]
  },
  {
   "cell_type": "code",
   "execution_count": 22,
   "id": "8995a45d",
   "metadata": {},
   "outputs": [
    {
     "name": "stdout",
     "output_type": "stream",
     "text": [
      "Error: Existen entradas incorrectas o la lógica de la compuerta AND no es la correcta.\n"
     ]
    },
    {
     "data": {
      "text/plain": [
       "2.0"
      ]
     },
     "execution_count": 22,
     "metadata": {},
     "output_type": "execute_result"
    }
   ],
   "source": [
    "error_compuerta_AND(x_repetido,compuerta_AND)"
   ]
  },
  {
   "cell_type": "code",
   "execution_count": 23,
   "id": "414c0a14",
   "metadata": {},
   "outputs": [
    {
     "name": "stdout",
     "output_type": "stream",
     "text": [
      "Error: Existen entradas incorrectas o la lógica de la compuerta AND no es la correcta.\n",
      "Error: Existen entradas incorrectas o la lógica de la compuerta AND no es la correcta.\n"
     ]
    },
    {
     "data": {
      "image/png": "[encoded data removed]",
      "text/plain": [
       "<Figure size 600x400 with 1 Axes>"
      ]
     },
     "metadata": {
      "needs_background": "light"
     },
     "output_type": "display_data"
    },
    {
     "name": "stdout",
     "output_type": "stream",
     "text": [
      "        Entrada  Salida\n",
      "0  [1, 1, 1, 1]     1.0\n",
      "1  [0, 1, 1, 1]     0.0\n",
      "2  [1, 1, 1, 1]     1.0\n",
      "3  [1, 1, 0, 1]     0.0\n",
      "4  [1, 1, 1, 1]     1.0\n",
      "5  [1, 1, 1, 1]     1.0\n",
      "6  [1, 1, 1, 1]     1.0\n"
     ]
    }
   ],
   "source": [
    "graficar_compuerta(x_repetido,compuerta_AND,error_compuerta_AND,'Salida del perceptrón para la compuerta AND')"
   ]
  },
  {
   "cell_type": "markdown",
   "id": "29c0bb18",
   "metadata": {},
   "source": [
    "##### 4.1.2. Prueba OR\n",
    "Para la prueba en el caso de la compuerta OR, sabemos que si existen $x^2$ posibles combinaciones de entradas (donde $x$ es la cantidad de entradas), siempre existirá una salida que jamás tendrá el valor $1$. Por lo tanto, haremos un chequeo para detectar un error cuando la suma de los resultados de $\\text{OR}(x)$ sea igual o mayor que $x^2$, teniendo la misma regla del caso anterior en la que cada combinación solo puede existir una vez en nuestro arreglo.\n",
    "\n",
    "En el caso específico del perceptrón donde implementamos la compuerta $\\text{OR}$, sabemos que hay cuatro entradas, por lo tanto la cantidad de salidas será $4^2=4\\times4=16$."
   ]
  },
  {
   "cell_type": "code",
   "execution_count": 24,
   "id": "1c5ceaae",
   "metadata": {},
   "outputs": [],
   "source": [
    "def error_compuerta_OR(x,compuerta):\n",
    "    i = 0\n",
    "    for posible_valor in x:\n",
    "        i += compuerta(posible_valor)\n",
    "        if i >= (len(x[0])*len(x[0])):\n",
    "            print('Error: Existen entradas incorrectas o la lógica de la compuerta OR no es la correcta.')\n",
    "            return i\n",
    "    print(\"No se detectaron errores.\")\n",
    "    return 1"
   ]
  },
  {
   "cell_type": "code",
   "execution_count": 25,
   "id": "91cbb33c",
   "metadata": {},
   "outputs": [
    {
     "name": "stdout",
     "output_type": "stream",
     "text": [
      "No se detectaron errores.\n"
     ]
    },
    {
     "data": {
      "image/png": "[encoded data removed]",
      "text/plain": [
       "<Figure size 600x400 with 1 Axes>"
      ]
     },
     "metadata": {
      "needs_background": "light"
     },
     "output_type": "display_data"
    },
    {
     "name": "stdout",
     "output_type": "stream",
     "text": [
      "         Entrada  Salida\n",
      "0   [0, 0, 0, 0]     0.0\n",
      "1   [0, 0, 0, 1]     1.0\n",
      "2   [0, 0, 1, 0]     1.0\n",
      "3   [0, 0, 1, 1]     1.0\n",
      "4   [0, 1, 0, 0]     1.0\n",
      "5   [0, 1, 0, 1]     1.0\n",
      "6   [0, 1, 1, 0]     1.0\n",
      "7   [0, 1, 1, 1]     1.0\n",
      "8   [1, 0, 0, 0]     1.0\n",
      "9   [1, 0, 0, 1]     1.0\n",
      "10  [1, 0, 1, 0]     1.0\n",
      "11  [1, 0, 1, 1]     1.0\n",
      "12  [1, 1, 0, 0]     1.0\n",
      "13  [1, 1, 0, 1]     1.0\n",
      "14  [1, 1, 1, 0]     1.0\n",
      "15  [1, 1, 1, 1]     1.0\n"
     ]
    }
   ],
   "source": [
    "graficar_compuerta(x,compuerta_OR,error_compuerta_OR,'Salida del perceptrón para la compuerta OR')"
   ]
  },
  {
   "cell_type": "markdown",
   "id": "4e482cf4",
   "metadata": {},
   "source": [
    "En el ejemplo de arriba, la suma total da 15. Sin embargo, en el ejemplo de abajo, la suma total supera el valor de 15 y nuestro código insertará una línea roja desde el punto en el que el error aparece, considerando incorrecto el gráfico desde esa línea vertical hacia la derecha."
   ]
  },
  {
   "cell_type": "code",
   "execution_count": 26,
   "id": "360a71d0",
   "metadata": {},
   "outputs": [],
   "source": [
    "x_error_or = np.copy(x)\n",
    "x_error_or = x_error_or.tolist()\n",
    "x_error_or.append([1,2,1,1])\n",
    "x_error_or.append([1,2,5,1])"
   ]
  },
  {
   "cell_type": "code",
   "execution_count": 27,
   "id": "a7ede71c",
   "metadata": {},
   "outputs": [
    {
     "name": "stdout",
     "output_type": "stream",
     "text": [
      "Error: Existen entradas incorrectas o la lógica de la compuerta OR no es la correcta.\n",
      "Error: Existen entradas incorrectas o la lógica de la compuerta OR no es la correcta.\n"
     ]
    },
    {
     "data": {
      "image/png": "[encoded data removed]",
      "text/plain": [
       "<Figure size 600x400 with 1 Axes>"
      ]
     },
     "metadata": {
      "needs_background": "light"
     },
     "output_type": "display_data"
    },
    {
     "name": "stdout",
     "output_type": "stream",
     "text": [
      "         Entrada  Salida\n",
      "0   [0, 0, 0, 0]     0.0\n",
      "1   [0, 0, 0, 1]     1.0\n",
      "2   [0, 0, 1, 0]     1.0\n",
      "3   [0, 0, 1, 1]     1.0\n",
      "4   [0, 1, 0, 0]     1.0\n",
      "5   [0, 1, 0, 1]     1.0\n",
      "6   [0, 1, 1, 0]     1.0\n",
      "7   [0, 1, 1, 1]     1.0\n",
      "8   [1, 0, 0, 0]     1.0\n",
      "9   [1, 0, 0, 1]     1.0\n",
      "10  [1, 0, 1, 0]     1.0\n",
      "11  [1, 0, 1, 1]     1.0\n",
      "12  [1, 1, 0, 0]     1.0\n",
      "13  [1, 1, 0, 1]     1.0\n",
      "14  [1, 1, 1, 0]     1.0\n",
      "15  [1, 1, 1, 1]     1.0\n",
      "16  [1, 2, 1, 1]     1.0\n",
      "17  [1, 2, 5, 1]     1.0\n"
     ]
    }
   ],
   "source": [
    "graficar_compuerta(x_error_or,compuerta_OR,error_compuerta_OR,'Salida del perceptrón para la compuerta OR')"
   ]
  },
  {
   "cell_type": "markdown",
   "id": "5e4c6b6a",
   "metadata": {},
   "source": [
    "##### 4.1.3. Prueba XOR\n",
    "Bajo la misma lógica que la prueba anterior, sabemos que la suma de todas las salidas de $\\text{XOR}$ siempre será $x^2-2$, donde $x$ corresponde a la cantidad de entradas. Teniendo esto presente, tomaremos el código para validar $\\text{OR}$ y lo ajustaremos a $\\text{XOR}$, mostrándonos un error cuando la suma de las salidas supera $x^2-2$."
   ]
  },
  {
   "cell_type": "code",
   "execution_count": 28,
   "id": "c9987bb7",
   "metadata": {},
   "outputs": [],
   "source": [
    "def error_compuerta_XOR(x,compuerta):\n",
    "    i = 0\n",
    "    for posible_valor in x:\n",
    "        i += compuerta(posible_valor)\n",
    "        if i >= (len(x[0])*len(x[0])-1):\n",
    "            print('Error: Existen entradas incorrectas o la lógica de la compuerta XOR no es la correcta.')\n",
    "            return i\n",
    "    print(\"No se detectaron errores.\")\n",
    "    return 1"
   ]
  },
  {
   "cell_type": "code",
   "execution_count": 29,
   "id": "8fa51d31",
   "metadata": {},
   "outputs": [
    {
     "name": "stdout",
     "output_type": "stream",
     "text": [
      "No se detectaron errores.\n"
     ]
    },
    {
     "data": {
      "image/png": "[encoded data removed]",
      "text/plain": [
       "<Figure size 600x400 with 1 Axes>"
      ]
     },
     "metadata": {
      "needs_background": "light"
     },
     "output_type": "display_data"
    },
    {
     "name": "stdout",
     "output_type": "stream",
     "text": [
      "         Entrada  Salida\n",
      "0   [0, 0, 0, 0]     0.0\n",
      "1   [0, 0, 0, 1]     1.0\n",
      "2   [0, 0, 1, 0]     1.0\n",
      "3   [0, 0, 1, 1]     1.0\n",
      "4   [0, 1, 0, 0]     1.0\n",
      "5   [0, 1, 0, 1]     1.0\n",
      "6   [0, 1, 1, 0]     1.0\n",
      "7   [0, 1, 1, 1]     1.0\n",
      "8   [1, 0, 0, 0]     1.0\n",
      "9   [1, 0, 0, 1]     1.0\n",
      "10  [1, 0, 1, 0]     1.0\n",
      "11  [1, 0, 1, 1]     1.0\n",
      "12  [1, 1, 0, 0]     1.0\n",
      "13  [1, 1, 0, 1]     1.0\n",
      "14  [1, 1, 1, 0]     1.0\n",
      "15  [1, 1, 1, 1]     0.0\n"
     ]
    }
   ],
   "source": [
    "graficar_compuerta(x,compuerta_XOR,error_compuerta_XOR,'Salida del perceptrón para la compuerta XOR')"
   ]
  },
  {
   "cell_type": "markdown",
   "id": "22e94eb5",
   "metadata": {},
   "source": [
    "Si repetimos algunas combinaciones, nos encontraremos con que la suma de todas las salidas superará $x^2-2$ y nos dará error:"
   ]
  },
  {
   "cell_type": "code",
   "execution_count": 30,
   "id": "a9c05fad",
   "metadata": {},
   "outputs": [],
   "source": [
    "x_error_xor = np.copy(x)\n",
    "x_error_xor = x_error_xor.tolist()\n",
    "x_error_xor.remove([1,1,1,1])\n",
    "x_error_xor.append([1,0,1,1])\n",
    "x_error_xor.append([1,0,0,1])\n",
    "x_error_xor.append([1,0,1,0])\n",
    "x_error_xor.append([1,1,1,1])"
   ]
  },
  {
   "cell_type": "code",
   "execution_count": 31,
   "id": "898ad0cf",
   "metadata": {},
   "outputs": [
    {
     "name": "stdout",
     "output_type": "stream",
     "text": [
      "Error: Existen entradas incorrectas o la lógica de la compuerta XOR no es la correcta.\n",
      "Error: Existen entradas incorrectas o la lógica de la compuerta XOR no es la correcta.\n"
     ]
    },
    {
     "data": {
      "image/png": "[encoded data removed]",
      "text/plain": [
       "<Figure size 600x400 with 1 Axes>"
      ]
     },
     "metadata": {
      "needs_background": "light"
     },
     "output_type": "display_data"
    },
    {
     "name": "stdout",
     "output_type": "stream",
     "text": [
      "         Entrada  Salida\n",
      "0   [0, 0, 0, 0]     0.0\n",
      "1   [0, 0, 0, 1]     1.0\n",
      "2   [0, 0, 1, 0]     1.0\n",
      "3   [0, 0, 1, 1]     1.0\n",
      "4   [0, 1, 0, 0]     1.0\n",
      "5   [0, 1, 0, 1]     1.0\n",
      "6   [0, 1, 1, 0]     1.0\n",
      "7   [0, 1, 1, 1]     1.0\n",
      "8   [1, 0, 0, 0]     1.0\n",
      "9   [1, 0, 0, 1]     1.0\n",
      "10  [1, 0, 1, 0]     1.0\n",
      "11  [1, 0, 1, 1]     1.0\n",
      "12  [1, 1, 0, 0]     1.0\n",
      "13  [1, 1, 0, 1]     1.0\n",
      "14  [1, 1, 1, 0]     1.0\n",
      "15  [1, 0, 1, 1]     1.0\n",
      "16  [1, 0, 0, 1]     1.0\n",
      "17  [1, 0, 1, 0]     1.0\n",
      "18  [1, 1, 1, 1]     0.0\n"
     ]
    }
   ],
   "source": [
    "graficar_compuerta(x_error_xor,compuerta_XOR,error_compuerta_XOR,'Salida del perceptrón para la compuerta XOR')"
   ]
  },
  {
   "cell_type": "markdown",
   "id": "62c7cdde",
   "metadata": {},
   "source": [
    "#### 4.2. Perceptrón con el dataset 'letters.csv'\n",
    "Para trabajar con el perceptrón, usaremos la función definida en la sección 3 para poder armar un dataframe que contenga dos columnas: la letra clasificada, y la salida del perceptrón.\n",
    "\n",
    "En esa función debemos ingresar el conjunto de datos a usar, los pesos $\\text{w}$ y también un valor $b$. Para sistematizar la búsqueda de valores óptimos para los pesos y para el valor $b$, sabemos que idealmente tendremos una clasificación 100% correcta para la letra ``o`` y la letra ``l``, lo que llevado a números equivale a $1.0$ para cada una, por lo tanto, si sumamos esto, sabemos que el valor ideal de la suma de los valores óptimos de ``o`` y ``l`` será $2.0$, e iremos probando con números cercanos a esa cifra:"
   ]
  },
  {
   "cell_type": "code",
   "execution_count": 32,
   "id": "2d59136f",
   "metadata": {},
   "outputs": [],
   "source": [
    "def evaluacion_perceptron_datos(suma_optima_a_buscar):\n",
    "    for i in range(1,11):\n",
    "        for j in range(1,11):\n",
    "            for k in range(1,11):\n",
    "                for l in [-1,1]:\n",
    "                    df_salida = pd.DataFrame(perceptron_datos(datos,[1/i,1/j],l*1/k), columns=['Letra','Salida','x_1','x_2'])\n",
    "                    o_en_cero = 0\n",
    "                    o_en_uno = 0\n",
    "                    l_en_cero = 0\n",
    "                    l_en_uno = 0\n",
    "                    for valor in df_salida.values:\n",
    "                        if (valor[0] == 'o'):\n",
    "                            if valor[1] == 0.0:\n",
    "                                o_en_cero += 1\n",
    "                            else:\n",
    "                                o_en_uno += 1\n",
    "                        else:\n",
    "                            if valor[1] == 0.0:\n",
    "                                l_en_cero += 1\n",
    "                            else:\n",
    "                                l_en_uno += 1\n",
    "                    if o_en_cero/(o_en_cero+o_en_uno) + l_en_uno/(l_en_cero+l_en_uno) > suma_optima_a_buscar:\n",
    "                        print(\"¡Valores encontrados!\")\n",
    "                        print(\"Peso w_1: \" + str(1/i))\n",
    "                        print(\"Peso w_2: \" + str(1/j))\n",
    "                        print(\"Valor b: \" + str(l*1/k))"
   ]
  },
  {
   "cell_type": "markdown",
   "id": "de37be88",
   "metadata": {},
   "source": [
    "Buscamos primero si existen valores que nos entreguen la clasificación perfecta, es decir, sin errores:"
   ]
  },
  {
   "cell_type": "code",
   "execution_count": 33,
   "id": "91893616",
   "metadata": {},
   "outputs": [],
   "source": [
    "evaluacion_perceptron_datos(2.0)"
   ]
  },
  {
   "cell_type": "markdown",
   "id": "f9bb22f7",
   "metadata": {},
   "source": [
    "Y al no recibir valores de vuelta, bajamos la cifra a $1.8$:"
   ]
  },
  {
   "cell_type": "code",
   "execution_count": 34,
   "id": "bbcf76dd",
   "metadata": {},
   "outputs": [],
   "source": [
    "evaluacion_perceptron_datos(1.8)"
   ]
  },
  {
   "cell_type": "markdown",
   "id": "76cd9ede",
   "metadata": {},
   "source": [
    "Sigue muy alto, así que probaremos con $1.7$:"
   ]
  },
  {
   "cell_type": "code",
   "execution_count": 35,
   "id": "3aabd520",
   "metadata": {},
   "outputs": [
    {
     "name": "stdout",
     "output_type": "stream",
     "text": [
      "¡Valores encontrados!\n",
      "Peso w_1: 0.3333333333333333\n",
      "Peso w_2: 0.1\n",
      "Valor b: -0.25\n",
      "¡Valores encontrados!\n",
      "Peso w_1: 0.25\n",
      "Peso w_2: 0.1\n",
      "Valor b: -0.2\n"
     ]
    }
   ],
   "source": [
    "evaluacion_perceptron_datos(1.7)"
   ]
  },
  {
   "cell_type": "markdown",
   "id": "669f0925",
   "metadata": {},
   "source": [
    "Y en esta ocasión sí encontramos valores que nos darán muy poco error. Revisamos si podemos discriminar entre cuál de las dos combinaciones de valores del perceptrón será mejor y subimos un poco hasta $1.73$:"
   ]
  },
  {
   "cell_type": "code",
   "execution_count": 36,
   "id": "d6b9834c",
   "metadata": {},
   "outputs": [
    {
     "name": "stdout",
     "output_type": "stream",
     "text": [
      "¡Valores encontrados!\n",
      "Peso w_1: 0.3333333333333333\n",
      "Peso w_2: 0.1\n",
      "Valor b: -0.25\n"
     ]
    }
   ],
   "source": [
    "evaluacion_perceptron_datos(1.73)"
   ]
  },
  {
   "cell_type": "markdown",
   "id": "876e627d",
   "metadata": {},
   "source": [
    "Y ahora que solo tenemos una única combinación de valores, los ingresaremos en nuestro perceptrón para obtener los mejores resultados posibles según los datos y el trabajo previo:"
   ]
  },
  {
   "cell_type": "code",
   "execution_count": 37,
   "id": "7c8782a3",
   "metadata": {},
   "outputs": [],
   "source": [
    "peso_w_1 = 0.3333333333333333\n",
    "peso_w_2 = 0.1\n",
    "valor_b = -0.25\n",
    "\n",
    "df_salida = perceptron_datos(datos,[peso_w_1,peso_w_2],valor_b)"
   ]
  },
  {
   "cell_type": "markdown",
   "id": "6053dbd1",
   "metadata": {},
   "source": [
    "Creamos la siguiente función para encontrar todos los valores importantes en la evaluación de nuestro modelo:"
   ]
  },
  {
   "cell_type": "code",
   "execution_count": 38,
   "id": "c1a3d051",
   "metadata": {},
   "outputs": [],
   "source": [
    "def checkearErrores(df_salida):\n",
    "    o_en_cero = 0\n",
    "    o_en_uno = 0\n",
    "    l_en_cero = 0\n",
    "    l_en_uno = 0\n",
    "    for valor in df_salida:\n",
    "        if (valor[0] == 'o'):\n",
    "            if valor[1] == 0.0:\n",
    "                o_en_cero += 1\n",
    "            else:\n",
    "                o_en_uno += 1\n",
    "        else:\n",
    "            if valor[1] == 0.0:\n",
    "                l_en_cero += 1\n",
    "            else:\n",
    "                l_en_uno += 1\n",
    "    print('La cantidad de letras \"o\" clasificadas como 0 es: ' + str(o_en_cero))\n",
    "    print('La cantidad de letras \"o\" clasificadas como 1 es: ' + str(o_en_uno))\n",
    "    print('La cantidad de letras \"l\" clasificadas como 0 es: ' + str(l_en_cero))\n",
    "    print('La cantidad de letras \"l\" clasificadas como 1 es: ' + str(l_en_uno))\n",
    "    precision_o = o_en_cero/(o_en_cero+o_en_uno)\n",
    "    print('La precisión para clasificar \"o\" como 0 es: ' + str(precision_o))\n",
    "    precision_l = l_en_uno/(l_en_cero+l_en_uno)\n",
    "    print('La precisión para clasificar \"l\" como 1 es: ' + str(precision_l))\n",
    "    error_o = 1-o_en_cero/(o_en_cero+o_en_uno)\n",
    "    print('El error para clasificar \"o\" como 0 es: ' + str(error_o))\n",
    "    error_l = 1-l_en_uno/(l_en_cero+l_en_uno)\n",
    "    print('El error para clasificar \"l\" como 1 es: ' + str(error_l))\n",
    "    return precision_o, precision_l, error_o, error_l"
   ]
  },
  {
   "cell_type": "code",
   "execution_count": 39,
   "id": "0b7d69a8",
   "metadata": {},
   "outputs": [
    {
     "name": "stdout",
     "output_type": "stream",
     "text": [
      "La cantidad de letras \"o\" clasificadas como 0 es: 66\n",
      "La cantidad de letras \"o\" clasificadas como 1 es: 24\n",
      "La cantidad de letras \"l\" clasificadas como 0 es: 0\n",
      "La cantidad de letras \"l\" clasificadas como 1 es: 10\n",
      "La precisión para clasificar \"o\" como 0 es: 0.7333333333333333\n",
      "La precisión para clasificar \"l\" como 1 es: 1.0\n",
      "El error para clasificar \"o\" como 0 es: 0.2666666666666667\n",
      "El error para clasificar \"l\" como 1 es: 0.0\n"
     ]
    }
   ],
   "source": [
    "precision_o, precision_l, error_o, error_l = checkearErrores(df_salida)"
   ]
  },
  {
   "cell_type": "markdown",
   "id": "e7d45787",
   "metadata": {},
   "source": [
    "Y así obtuvimos que el error para clasificar la letra ``o`` como $0$ es $0.26\\dots$, mientras que clasificar ``l`` como $1$ no entrega ningún error, por lo tanto es una clasificación perfecta en base a los datos usados. Gráficamente, podemos ver esto en una matriz de confusión:"
   ]
  },
  {
   "cell_type": "code",
   "execution_count": 40,
   "id": "e804717b",
   "metadata": {},
   "outputs": [
    {
     "data": {
      "text/plain": [
       "<AxesSubplot:>"
      ]
     },
     "execution_count": 40,
     "metadata": {},
     "output_type": "execute_result"
    },
    {
     "data": {
      "image/png": "[encoded data removed]",
      "text/plain": [
       "<Figure size 600x400 with 2 Axes>"
      ]
     },
     "metadata": {
      "needs_background": "light"
     },
     "output_type": "display_data"
    }
   ],
   "source": [
    "array = [[precision_o,error_o],[error_l,precision_l]]\n",
    "df_cm = pd.DataFrame(array, index = [i for i in \"ol\"],\n",
    "                  columns = [i for i in \"01\"])\n",
    "sn.heatmap(df_cm, annot=True, cmap=\"OrRd\")"
   ]
  },
  {
   "cell_type": "markdown",
   "id": "86204254",
   "metadata": {},
   "source": [
    "Finalmente, graficándo esto en un plano, tenemos:"
   ]
  },
  {
   "cell_type": "code",
   "execution_count": 46,
   "id": "3b50f808",
   "metadata": {},
   "outputs": [
    {
     "data": {
      "image/png": "[encoded data removed]",
      "text/plain": [
       "<Figure size 600x400 with 1 Axes>"
      ]
     },
     "metadata": {
      "needs_background": "light"
     },
     "output_type": "display_data"
    }
   ],
   "source": [
    "df_salida = pd.DataFrame(df_salida)\n",
    "y = df_salida[1]\n",
    "\n",
    "x1 = df_salida[2]\n",
    "x2 = df_salida[3]\n",
    "color = ['r' if value == 1 else 'b' for value in y]\n",
    "label = [['l'],['o']]\n",
    "plt.scatter(x1, x2, marker='o', color=color)\n",
    "plt.xlabel('Valores $x_1$')\n",
    "plt.ylabel('Valores $x_2$')\n",
    "plt.title('Clasificación dada por el perceptrón')\n",
    "a = -peso_w_1/peso_w_2\n",
    "xx = np.linspace(-5, 5)\n",
    "yy = a * xx - valor_b/peso_w_2\n",
    "plt.xlim([-0.2, 1.2])\n",
    "plt.ylim([-0.2, 1.2])\n",
    "plt.plot(xx,yy)\n",
    "plt.show()"
   ]
  },
  {
   "cell_type": "markdown",
   "id": "f3704414",
   "metadata": {},
   "source": [
    "Donde para generar la línea divisora entre los dos tipos de valores clasificados, hubo que hacer el siguiente cálculo en base a los pesos $\\text{w}$ y el valor $b$:\n",
    "\n",
    "$$\n",
    "y(x) = \\frac{w_1 \\cdot b \\cdot x}{w_2^2} = \\frac{-0.\\bar{3}\\cdot0.25\\cdot x}{0.01}\n",
    "$$\n",
    "\n"
   ]
  },
  {
   "cell_type": "markdown",
   "id": "40810d05",
   "metadata": {},
   "source": [
    "En base a estos resultados, queremos tener un perceptrón que se auto-corrija iterativamente. El objetivo es tener un algoritmo que encuentre los mismos pesos óptimos que identificamos en los pasos anteriores. Para ello, definiremos una nueva función con *hiperparámetros*. Un hiperparámetro es un parámetro usado para controlar el perceptrón, y que no ingresa en él. En este caso, entregaremos la razón de aprendizaje y la cantidad de iteraciones en las que el perceptrón se irá ajustando:"
   ]
  },
  {
   "cell_type": "code",
   "execution_count": 42,
   "id": "b03a8b62",
   "metadata": {},
   "outputs": [],
   "source": [
    "datos = np.copy(df)\n",
    "datos = np.array(datos)\n",
    "\n",
    "def perceptron_iterativo_datos(datos,aprendizaje,iteraciones):\n",
    "    valores = datos[:,:-1]\n",
    "    letras = datos[:,-1]\n",
    "    m, n = valores.shape\n",
    "    w = np.zeros(shape=(n+1,1),dtype=float)\n",
    "    lista_errores = []\n",
    "    \n",
    "    for iteracion in range(iteraciones):\n",
    "        numero_errores = 0\n",
    "        \n",
    "        for indice, x_i in enumerate(valores):\n",
    "            #insertando 1 para hacer x_0 = 1 como en varios modelos\n",
    "            x_i = np.insert(x_i,0,1).reshape(-1,1)\n",
    "            # llamamos la función de inicialización del principio del cuaderno\n",
    "            y = theta(np.dot(x_i.T, w))\n",
    "            # transformamos las letras a valores numéricos para comparar\n",
    "            letras[indice] = 1.0 if (letras[indice] == 'l') else 0.0\n",
    "            # en caso de haber diferencia entre el valor entregado por la función\n",
    "            # de inicialización y el valor esperado, registramos el error\n",
    "            if(np.squeeze(y) - letras[indice]) != 0:\n",
    "                w += (aprendizaje*(letras[indice] - y*x_i)).astype(np.float64)\n",
    "                numero_errores += 1\n",
    "                \n",
    "        lista_errores.append(numero_errores)\n",
    "    return w, lista_errores"
   ]
  },
  {
   "cell_type": "code",
   "execution_count": 43,
   "id": "15ddcf24",
   "metadata": {},
   "outputs": [
    {
     "name": "stdout",
     "output_type": "stream",
     "text": [
      "[[-2.5]\n",
      " [ 0.9]\n",
      " [ 0.9]]\n",
      "[24, 1, 0, 0, 0, 0, 0, 0, 0, 0]\n"
     ]
    }
   ],
   "source": [
    "w, lista_errores = perceptron_iterativo_datos(datos,0.5,10)\n",
    "print(w)\n",
    "print(lista_errores)"
   ]
  },
  {
   "cell_type": "markdown",
   "id": "7f5e72fb",
   "metadata": {},
   "source": [
    "Arriba podemos ver los resultados entregados por el código, que nos entrega los pesos correspondientes a cada entrada (en este caso, también agregamos una columna $x_0 = 1$ y así pudimos encontrar un nuevo $b$). No son los mismos valores que en el método que usamos anteriormente, sin embargo, podemos ver a continuación cómo este nuevo método iterativo comienza en un valor por defecto que da bastantes errores, y con el paso de las iteraciones va acercándose más a cero errores en la clasificación de las letras ```l``` y ```o```, llegando a cero en la tercera iteración."
   ]
  },
  {
   "cell_type": "code",
   "execution_count": 44,
   "id": "564d21a3",
   "metadata": {},
   "outputs": [
    {
     "data": {
      "image/png": "[encoded data removed]",
      "text/plain": [
       "<Figure size 600x400 with 1 Axes>"
      ]
     },
     "metadata": {
      "needs_background": "light"
     },
     "output_type": "display_data"
    }
   ],
   "source": [
    "lista_iteraciones = np.arange(1, 11)\n",
    "plt.plot(lista_iteraciones, lista_errores)\n",
    "plt.xlabel('Iteraciones')\n",
    "plt.ylabel('Errores')\n",
    "plt.show()"
   ]
  },
  {
   "cell_type": "code",
   "execution_count": 45,
   "id": "3baaf7a3",
   "metadata": {},
   "outputs": [
    {
     "data": {
      "image/png": "[encoded data removed]",
      "text/plain": [
       "<Figure size 600x400 with 1 Axes>"
      ]
     },
     "metadata": {
      "needs_background": "light"
     },
     "output_type": "display_data"
    }
   ],
   "source": [
    "valores = datos[:,:-1]\n",
    "\n",
    "x1 = np.linspace(-5, 5)\n",
    "m = -w[1]*3.33333/(w[2])\n",
    "\n",
    "c = -w[0]/(w[2])\n",
    "\n",
    "x2 = m*x1 + c*0.906\n",
    "\n",
    "plt.scatter(valores[:, 0][y==0], valores[:, 1][y==0])\n",
    "plt.scatter(valores[:, 0][y==1], valores[:, 1][y==1])\n",
    "plt.xlabel(\"Valores $x_1$\")\n",
    "plt.ylabel(\"Valores $x_2$\")\n",
    "plt.title('Clasificación dada por el perceptrón entrenado')\n",
    "\n",
    "plt.xlim([-0.2, 1.2])\n",
    "plt.ylim([-0.2, 1.2])\n",
    "\n",
    "plt.plot(x1, x2, 'y-')\n",
    "plt.show()"
   ]
  },
  {
   "cell_type": "markdown",
   "id": "96f33003",
   "metadata": {},
   "source": [
    "### 5. Análisis\n",
    ">Analizar y concluír sobre los resultados obtenidos en los pasos 2, 3 y 4."
   ]
  },
  {
   "cell_type": "markdown",
   "id": "e51ab067",
   "metadata": {},
   "source": [
    "<!-- Respecto a la compuerta AND y OR, sabemos que el perceptrón devolverá $1$ para cualquier valor entrante mayor o igual que $0$, así que decidimos asignarle el valor $-1.9$ a $b$ para que el resultado de la suma $x_1w_1+x_2w_2+b$ sea $0.1$ solo cuando se cumpla simultáneamente que $x_1=1$ y $x_2=1$. Al analizarlo con el código dentro del $\\text{for}$ en la misma celda donde definimos la función, pudimos comprobar que la compuerta funciona correctamente. -->"
   ]
  },
  {
   "cell_type": "markdown",
   "id": "40ed1a87",
   "metadata": {},
   "source": [
    "Al realizar cada uno de los pasos anteriores fuimos aprendiendo diferentes características de los perceptrones, y consideramos que tras realizar este laboratorio pudimos entender correctamente su funcionamiento y el porqué es importante que auto-ajuste sus hiperparámetros.\n",
    "\n",
    "Esta importancia la demostramos al intentar encontrar los pesos $w$ utilizando iteraciones ```for``` en Python para cada uno de los posibles valores que varían dentro de la función de nuestro perceptrón, y luego irnos por el camino correcto de generar un perceptrón que vaya ajustando por sí mismo estos valores en la función  ```perceptron_iterativo_datos```, basándonos en información del sitio web *Towards Data Science*. Esta última función tiene muchísimas menos iteraciones para encontrar valores óptimos para una correcta clasificación en comparación con la cantidad de iteraciones que debimos ejecutar en un principio, siendo computacionalmente muy beneficiosa a pesar de llegar al mismo resultado. Eso sí, la función auto-ajustada nos generó una recta que no se condice adecuadamente con lo que realmente debería mostrar, ya que a pesar de obtener una clasificación adecuada tuvimos que realizar un pequeño ajuste para mostrar esa recta en el gráfico, multiplicando por 3.333 el $w_1$. No logramos identificar exactamente por qué ocurre esto, pero al menos identificamos qué pasaba y lo corregimos con el fin de una buena visualización de los resultados.\n",
    "\n",
    "Un desafío que tuvimos fue interpretar correctamente el conjunto de datos ```letters.csv```, y tras explorar un poco los datos identificamos a qué correspondía cada columna. Esto lo pudimos manejar correctamente en el perceptrón y los resultados van acorde a esos datos.\n",
    "\n",
    "Por otro lado, para las compuertas lógicas razonamos tal como si hubieramos realizado un circuito en la vida real, donde las entradas y las salidas son binarias y ninguna 'cuenta' más que otra, así que desde un principio tomamos la decisión de dar peso $1$ y un límite específico que debiera ser superado para devolver un $1$. Esto, basándonos en nuestro conocimiento previo adquirido en la asignatura *Arquitectura de Computadoras* de nuestra escuela. Decidimos identificar errores como una serie de entradas de posibles combinaciones porque se nos volvió más práctico de representar visualmente, y estamos muy satisfechos con las gráficas generadas pues conseguimos codificar funciones genéricas para encontrar perturbaciones en nuestro perceptrón que no deberían existir bajo las reglas que definimos.\n",
    "\n",
    "Para finalizar, nos gustaría mucho implementar varias mejoras y lograr optimizar el código para el siguiente laboratorio en base a lo aprendido en esta experiencia, que sin duda fue muy positiva para complementar con la práctica lo visto en clases y en donde logramos probar nuestras propias teorías e investigar lo que es aceptado por la comunidad y la academia."
   ]
  },
  {
   "cell_type": "code",
   "execution_count": null,
   "id": "d8b6ced5",
   "metadata": {},
   "outputs": [],
   "source": []
  }
 ],
 "metadata": {
  "kernelspec": {
   "display_name": "Python 3",
   "language": "python",
   "name": "python3"
  },
  "language_info": {
   "codemirror_mode": {
    "name": "ipython",
    "version": 3
   },
   "file_extension": ".py",
   "mimetype": "text/x-python",
   "name": "python",
   "nbconvert_exporter": "python",
   "pygments_lexer": "ipython3",
   "version": "3.9.1"
  }
 },
 "nbformat": 4,
 "nbformat_minor": 5
}
