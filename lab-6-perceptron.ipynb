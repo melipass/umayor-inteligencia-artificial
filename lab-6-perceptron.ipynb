{
 "cells": [
  {
   "cell_type": "markdown",
   "id": "b2842947",
   "metadata": {},
   "source": [
    "<tr><td><img src=\"https://raw.githubusercontent.com/melipass/umayor-ui-proyectos/main/logo-escuela.png\" width=\"400\" align=\"left\" style=\"margin-bottom:20px;margin-right:20px;\"></td><td>\n",
    "    \n",
    "# <center style=\"margin-bottom:-50px; margin-top:5px;\">Inteligencia Artificial</center>\n",
    "## <center>Experiencia de Laboratorio 6: Perceptrón simple</center>\n",
    "    \n",
    "</td>\n",
    "</tr>\n"
   ]
  },
  {
   "cell_type": "markdown",
   "id": "14842701",
   "metadata": {},
   "source": [
    "### Objetivo\n",
    "Comprobar el funcionamiento de los modelos de redes neuronales correspondientes al perceptrón simple."
   ]
  },
  {
   "cell_type": "markdown",
   "id": "ded8f362",
   "metadata": {},
   "source": [
    "### Conceptos\n",
    "#### Perceptrón\n",
    "El perceptrón es la red neuronal más básica, de una sola capa y con una función de activación de escalón. El perceptrón se utiliza para la clasificación binaria de datos."
   ]
  },
  {
   "cell_type": "markdown",
   "id": "308e512e",
   "metadata": {},
   "source": [
    "### Desarrollo\n",
    "#### 1. Implementar el perceptrón\n",
    "\n",
    ">Implementar un perceptrón simple y genérico en Python con una función de activación. Ajustar los pesos en cada iteración según corresponda, y entregar una salida acorde a la entrada recibida."
   ]
  },
  {
   "cell_type": "code",
   "execution_count": 7,
   "id": "c3e87436",
   "metadata": {},
   "outputs": [
    {
     "data": {
      "text/html": [
       "\n",
       "<style>\n",
       ".output_png {\n",
       "    display: table-cell;\n",
       "    text-align: center;\n",
       "    vertical-align: middle;\n",
       "}\n",
       "</style>\n"
      ],
      "text/plain": [
       "<IPython.core.display.HTML object>"
      ]
     },
     "execution_count": 7,
     "metadata": {},
     "output_type": "execute_result"
    }
   ],
   "source": [
    "# Inicializamos el notebook\n",
    "\n",
    "import numpy as np\n",
    "import matplotlib.pyplot as plt\n",
    "%matplotlib inline\n",
    "import pandas as pd\n",
    "import itertools # para generar las tablas de valor\n",
    "from IPython.core.display import HTML\n",
    "HTML(\"\"\"\n",
    "<style>\n",
    ".output_png {\n",
    "    display: table-cell;\n",
    "    text-align: center;\n",
    "    vertical-align: middle;\n",
    "}\n",
    "</style>\n",
    "\"\"\")"
   ]
  },
  {
   "cell_type": "markdown",
   "id": "d51cbcdf",
   "metadata": {},
   "source": [
    "Según lo visto en clases, la función de activación del perceptrón es la de escalón, y será la utilizada en este notebook. Esta está definida de la siguiente manera:\n",
    "\n",
    "$$ \\theta(z)=   \\left\\{\n",
    "\\begin{array}{ll}\n",
    "      1 & z \\geq 0 \\\\\n",
    "      1 & z < 0 \\\\\n",
    "\\end{array} \n",
    "\\right.  $$\n",
    "\n",
    "En donde el valor de $z$ corresponde a el valor ingresado en la función de activación $\\theta$, y la salida de la función solo tiene dos valores posibles: $0$ y $1$."
   ]
  },
  {
   "cell_type": "code",
   "execution_count": 10,
   "id": "72b7e3b9",
   "metadata": {},
   "outputs": [],
   "source": [
    "# Función de activación del perceptrón\n",
    "def theta(z):\n",
    "    return 1.0 if (z > 0) else 0.0"
   ]
  },
  {
   "cell_type": "code",
   "execution_count": 11,
   "id": "e3c971a5",
   "metadata": {},
   "outputs": [
    {
     "data": {
      "image/png": "[encoded data removed]",
      "text/plain": [
       "<Figure size 432x288 with 1 Axes>"
      ]
     },
     "metadata": {
      "needs_background": "light"
     },
     "output_type": "display_data"
    }
   ],
   "source": [
    "# Gráfico que representa la función de activación anterior\n",
    "x = [-10,0,1,10] \n",
    "y = [0,0,1,1]\n",
    "plt.step(x, y)\n",
    "plt.show()"
   ]
  },
  {
   "cell_type": "markdown",
   "id": "3880cc11",
   "metadata": {},
   "source": [
    "Usando esta función, definimos el perceptrón como:\n",
    "\n",
    "$$\n",
    "y(\\text{x},\\text{w},b) = \\theta(\\text{w}\\cdot\\text{x}+b) = \\theta(w_1x_1+w_2x_2+\\dots+w_nx_n+b)\n",
    "$$\n",
    "\n",
    "Donde el vector $\\text{x}$ corresponde a las entradas del perceptrón y el vector $\\text{w}$ corresponde al peso asignado a cada uno. Esto se suma para después aplicar la función de activación, y queda nuestro perceptrón de la siguiente manera:"
   ]
  },
  {
   "cell_type": "code",
   "execution_count": 12,
   "id": "2bf495f9",
   "metadata": {},
   "outputs": [],
   "source": [
    "def perceptron(x,w,b):\n",
    "    entrada_theta = np.dot(w,x)+b\n",
    "    return theta(entrada_theta)"
   ]
  },
  {
   "cell_type": "markdown",
   "id": "4ea9862b",
   "metadata": {},
   "source": [
    "#### 2. Probar el perceptrón en AND, OR y XOR\n",
    ">Probar el perceptrón implementado para una compuerta lógica $\\text{AND}$, $\\text{OR}$ y $\\text{XOR}$ con una entrada de tamaño 4.\n",
    "\n",
    "Para implementar perceptrones que simulen las compuertas lógicas $\\text{AND}$, $\\text{OR}$ y $\\text{XOR}$ y que tengan cuatro entradas, debemos tomar el perceptrón y ajustarlo para que quede de la siguiente manera:\n",
    "$$\n",
    "y(\\text{x})=\\theta(w_1x_1+w_2x_2+w_3x_3+w_4x_4+b)\n",
    "$$\n",
    "\n",
    "También, sabemos que existe un total de 16 posibles combinaciones de entradas para las compuertras con cuatro entradas, así que las dejaremos codificadas en un arreglo para probar en la parte 4:"
   ]
  },
  {
   "cell_type": "code",
   "execution_count": 302,
   "id": "8ba6b8f9",
   "metadata": {},
   "outputs": [
    {
     "name": "stdout",
     "output_type": "stream",
     "text": [
      "[[0, 0, 0, 0], [0, 0, 0, 1], [0, 0, 1, 0], [0, 0, 1, 1], [0, 1, 0, 0], [0, 1, 0, 1], [0, 1, 1, 0], [0, 1, 1, 1], [1, 0, 0, 0], [1, 0, 0, 1], [1, 0, 1, 0], [1, 0, 1, 1], [1, 1, 0, 0], [1, 1, 0, 1], [1, 1, 1, 0], [1, 1, 1, 1]]\n"
     ]
    }
   ],
   "source": [
    "l = [0,1]\n",
    "x = [list(i) for i in itertools.product(l, repeat=4)]\n",
    "print(x)"
   ]
  },
  {
   "cell_type": "markdown",
   "id": "5216e06f",
   "metadata": {},
   "source": [
    "##### Compuerta AND\n",
    "\n",
    "La compuerta lógica $\\text{AND}$, en nuestro caso, entrega el valor $1$ solo cuando todas sus entradas son $1$. Para que el perceptrón nos entregue el valor $1$ solo cuando todos los valores son $1$, debemos asignar valores a cada peso $w$ y al valor $b$, quedando así:\n",
    "\n",
    "$$\n",
    "\\text{AND}(\\text{x})=\\theta(x_1+x_2+x_3+x_4-3.9)\n",
    "$$\n",
    "\n",
    "Donde decidimos dejar cada uno de los pesos $w_i = 1$ y el valor $b=-3.9$."
   ]
  },
  {
   "cell_type": "code",
   "execution_count": 14,
   "id": "5acc10a5",
   "metadata": {},
   "outputs": [],
   "source": [
    "def compuerta_AND(x):\n",
    "    w = [1,1,1,1]\n",
    "    b = -3.9\n",
    "    return perceptron(x,w,b)"
   ]
  },
  {
   "cell_type": "markdown",
   "id": "be4ab763",
   "metadata": {},
   "source": [
    "##### Compuerta OR\n",
    "La compuerta lógica $\\text{OR}$ también obtiene cuatro valores binarios y devuelve $1$ cuando existe al menos una entrada con valor $1$. El perceptrón queda así:\n",
    "\n",
    "$$\n",
    "\\text{OR}(\\text{x})=\\theta(x_1+x_2+x_3+x_4-0.9)\n",
    "$$\n",
    "\n",
    "Donde decidimos dejar cada uno de los pesos $w_i = 1$ y el valor $b=-0.9$."
   ]
  },
  {
   "cell_type": "code",
   "execution_count": 15,
   "id": "db7d6594",
   "metadata": {},
   "outputs": [],
   "source": [
    "def compuerta_OR(x):\n",
    "    w = [1,1,1,1]\n",
    "    b = -0.9\n",
    "    return perceptron(x,w,b)"
   ]
  },
  {
   "cell_type": "markdown",
   "id": "bd1ffe3c",
   "metadata": {},
   "source": [
    "##### Compuerta XOR\n",
    "En el caso de la compuerta $\\text{XOR}$, sabemos que es necesario que nuestra compuerta devuelva el valor $0$ cuando todas las entradas son $0$ o $1$. Para ello, tuvimos que codificar la siguiente situación:\n",
    "\n",
    "- Encontrar la función que nos de $0$ solo cuando $\\text{AND}$ nos devuelve $1$ (en otras palabras, hacer la compuerta $\\text{NAND}$).\n",
    "- Poder combinar el resultado de la compuerta $\\text{NAND}$ con el de la compuerta $\\text{OR}$, es decir, crear un $\\text{AND}$ con dos entradas.\n",
    "\n",
    "Una vez que identificamos esos dos requisitos creamos una función para cada uno, y así pudimos crear la compuerta $\\text{XOR}$ que funciona satisfactoriamente. De esta forma, nos quedó la función $\\text{XOR}$ como:\n",
    "\n",
    "$$\n",
    "\\text{XOR}(\\text{x})=\\text{AND}(\\text{NAND}(\\text{x}),\\text{OR}(\\text{x})) = \\text{AND}(\\text{NAND}(x_1,x_2,x_3,x_4),\\text{OR}(x_1,x_2,x_3,x_4))\n",
    "$$"
   ]
  },
  {
   "cell_type": "code",
   "execution_count": 16,
   "id": "93c38375",
   "metadata": {},
   "outputs": [],
   "source": [
    "def compuerta_AND_2_entradas(x):\n",
    "    w = [1,1]\n",
    "    b = -1.9\n",
    "    return perceptron(x,w,b)\n",
    "\n",
    "def compuerta_NAND(x):\n",
    "    w = [-1,-1,-1,-1]\n",
    "    b = 3.9\n",
    "    return perceptron(x,w,b)\n",
    "\n",
    "def compuerta_XOR(x):\n",
    "    compuerta_1 = compuerta_NAND(x)\n",
    "    compuerta_2 = compuerta_OR(x)\n",
    "    return compuerta_AND_2_entradas([compuerta_1,compuerta_2])"
   ]
  },
  {
   "cell_type": "markdown",
   "id": "b6e4f9b8",
   "metadata": {},
   "source": [
    "#### 3. Probar el perceptrón con un dataset\n",
    ">Probar el perceptrón implementado para clasificar las entradas del dataset \"letters.csv\" determinando a qué letra corresponde cada entrada según las características recibidas."
   ]
  },
  {
   "cell_type": "code",
   "execution_count": null,
   "id": "76bb6044",
   "metadata": {},
   "outputs": [],
   "source": []
  },
  {
   "cell_type": "code",
   "execution_count": 17,
   "id": "3b152069",
   "metadata": {},
   "outputs": [],
   "source": [
    "#df = pd.read_csv('letters.csv')"
   ]
  },
  {
   "cell_type": "markdown",
   "id": "23003fe3",
   "metadata": {},
   "source": [
    "#### 4. Cálculo de error\n",
    ">Calcular el error obtenido en los pasos 2 y 3 durante el entrenamiento del perceptrón y expresarlo a través de un gráfico Iteración vs. Error."
   ]
  },
  {
   "cell_type": "markdown",
   "id": "1eced877",
   "metadata": {},
   "source": [
    "##### Compuertas lógicas\n",
    "Para poder confirmar visualmente la existencia de un error dentro de nuestros perceptrones que implementan compuertas lógicas, decidimos hacer una función genérica para crear gráficos escalonados. De esta manera, tendremos una guía visual de cuándo un perceptrón devuelve $0$ y cuándo devuelve $1$."
   ]
  },
  {
   "cell_type": "code",
   "execution_count": 308,
   "id": "fd420664",
   "metadata": {},
   "outputs": [],
   "source": [
    "def graficar_compuerta(x,compuerta,detector_error,titulo):\n",
    "    h = [0]\n",
    "    v = [0]\n",
    "    i = 1\n",
    "    error_en_titulo = \"\"\n",
    "    for posible_valor in x:\n",
    "        h.append(i)\n",
    "        i += 1\n",
    "        v.append(compuerta(posible_valor))\n",
    "    plt.step(h, v)\n",
    "    if detector_error(x,compuerta) != 1:\n",
    "        x_error = int(detector_error(x,compuerta))\n",
    "        plt.axvline(x = x_error, color = 'red')\n",
    "        error_en_titulo = \" (Error)\"\n",
    "    plt.title(titulo+error_en_titulo)\n",
    "    plt.show()\n",
    "    df = pd.DataFrame({'Entrada': x, 'Salida': v[1:]})\n",
    "    print(df)"
   ]
  },
  {
   "cell_type": "markdown",
   "id": "1670173f",
   "metadata": {},
   "source": [
    "###### - Prueba AND\n",
    "Tomando los valores que asignamos en la sección 2, obtenemos el siguiente gráfico y la siguiente tabla, donde en el eje x tendremos el índice de la combinación de entradas y en el eje y si esta corresponde a 0 o a 1, lo que nos permitirá confirmar si hay o no hay errores.."
   ]
  },
  {
   "cell_type": "code",
   "execution_count": 219,
   "id": "0fceeebe",
   "metadata": {},
   "outputs": [
    {
     "name": "stdout",
     "output_type": "stream",
     "text": [
      "No se detectaron errores.\n"
     ]
    },
    {
     "data": {
      "image/png": "[encoded data removed]",
      "text/plain": [
       "<Figure size 432x288 with 1 Axes>"
      ]
     },
     "metadata": {
      "needs_background": "light"
     },
     "output_type": "display_data"
    },
    {
     "name": "stdout",
     "output_type": "stream",
     "text": [
      "         Entrada  Salida\n",
      "0   [0, 0, 0, 0]     0.0\n",
      "1   [0, 0, 0, 1]     0.0\n",
      "2   [0, 0, 1, 0]     0.0\n",
      "3   [0, 0, 1, 1]     0.0\n",
      "4   [0, 1, 0, 0]     0.0\n",
      "5   [0, 1, 0, 1]     0.0\n",
      "6   [0, 1, 1, 0]     0.0\n",
      "7   [0, 1, 1, 1]     0.0\n",
      "8   [1, 0, 0, 0]     0.0\n",
      "9   [1, 0, 0, 1]     0.0\n",
      "10  [1, 0, 1, 0]     0.0\n",
      "11  [1, 0, 1, 1]     0.0\n",
      "12  [1, 1, 0, 0]     0.0\n",
      "13  [1, 1, 0, 1]     0.0\n",
      "14  [1, 1, 1, 0]     0.0\n",
      "15  [1, 1, 1, 1]     1.0\n"
     ]
    }
   ],
   "source": [
    "graficar_compuerta(x,compuerta_AND,error_compuerta_AND,'Salida del perceptrón para la compuerta AND')"
   ]
  },
  {
   "cell_type": "markdown",
   "id": "d2a79998",
   "metadata": {},
   "source": [
    "Sabiendo que la suma de todos los posibles resultados de la compuerta AND es $1$, sabemos que para un conjunto de entradas $x_n$, donde ninguna combinación de entradas se repite, jamás superaremos el valor 1 al sumar todas las salidas, cualquiera sea su dimensión. Teniendo esto presente, también creamos la siguiente función:"
   ]
  },
  {
   "cell_type": "code",
   "execution_count": 235,
   "id": "5d7b07d9",
   "metadata": {},
   "outputs": [],
   "source": [
    "def error_compuerta_AND(x,compuerta):\n",
    "    i = 0\n",
    "    for posible_valor in x:\n",
    "        i += compuerta(posible_valor)\n",
    "        if i > 1:\n",
    "            print('Error: Existen entradas incorrectas o la lógica de la compuerta AND no es la correcta.')\n",
    "            return i\n",
    "    print(\"No se detectaron errores.\")\n",
    "    return 1"
   ]
  },
  {
   "cell_type": "code",
   "execution_count": 236,
   "id": "a0ec1575",
   "metadata": {},
   "outputs": [
    {
     "name": "stdout",
     "output_type": "stream",
     "text": [
      "No se detectaron errores.\n"
     ]
    },
    {
     "data": {
      "text/plain": [
       "1"
      ]
     },
     "execution_count": 236,
     "metadata": {},
     "output_type": "execute_result"
    }
   ],
   "source": [
    "error_compuerta_AND(x,compuerta_AND)"
   ]
  },
  {
   "cell_type": "markdown",
   "id": "7cbd4fdb",
   "metadata": {},
   "source": [
    "Para poner a prueba nuestro perceptrón que implementa una compuerta, usaremos dos conjuntos: uno con valores que no deberían ser aceptados, y otro con valores repetidos. La línea roja representará la iteración desde la cual comienza a estar erróneo nuestro perceptrón bajo las reglas establecidas de no repetición y admisión exclusiva de entradas $0$ y $1$, teniendo que los valores a la derecha de la línea ya no son correctos pues harán que la suma de todas las salidas sea mayor a $1$."
   ]
  },
  {
   "cell_type": "code",
   "execution_count": 237,
   "id": "9f846e5f",
   "metadata": {},
   "outputs": [],
   "source": [
    "x_2_3 = [[2,3,3,2],[2,2,2,2],[3,3,3,3]]\n",
    "x_repetido = [[1,1,1,1],[0,1,1,1],[1,1,1,1],[1,1,0,1],[1,1,1,1],[1,1,1,1],[1,1,1,1]]"
   ]
  },
  {
   "cell_type": "code",
   "execution_count": 238,
   "id": "6fa17698",
   "metadata": {},
   "outputs": [
    {
     "name": "stdout",
     "output_type": "stream",
     "text": [
      "Error: Existen entradas incorrectas o la lógica de la compuerta AND no es la correcta.\n"
     ]
    },
    {
     "data": {
      "text/plain": [
       "2.0"
      ]
     },
     "execution_count": 238,
     "metadata": {},
     "output_type": "execute_result"
    }
   ],
   "source": [
    "error_compuerta_AND(x_2_3,compuerta_AND)"
   ]
  },
  {
   "cell_type": "code",
   "execution_count": 310,
   "id": "cd5320e9",
   "metadata": {},
   "outputs": [
    {
     "name": "stdout",
     "output_type": "stream",
     "text": [
      "Error: Existen entradas incorrectas o la lógica de la compuerta AND no es la correcta.\n",
      "Error: Existen entradas incorrectas o la lógica de la compuerta AND no es la correcta.\n"
     ]
    },
    {
     "data": {
      "image/png": "[encoded data removed]",
      "text/plain": [
       "<Figure size 432x288 with 1 Axes>"
      ]
     },
     "metadata": {
      "needs_background": "light"
     },
     "output_type": "display_data"
    },
    {
     "name": "stdout",
     "output_type": "stream",
     "text": [
      "        Entrada  Salida\n",
      "0  [2, 3, 3, 2]     1.0\n",
      "1  [2, 2, 2, 2]     1.0\n",
      "2  [3, 3, 3, 3]     1.0\n"
     ]
    }
   ],
   "source": [
    "graficar_compuerta(x_2_3,compuerta_AND,error_compuerta_AND,'Salida del perceptrón para la compuerta AND')"
   ]
  },
  {
   "cell_type": "code",
   "execution_count": 240,
   "id": "8995a45d",
   "metadata": {},
   "outputs": [
    {
     "name": "stdout",
     "output_type": "stream",
     "text": [
      "Error: Existen entradas incorrectas o la lógica de la compuerta AND no es la correcta.\n"
     ]
    },
    {
     "data": {
      "text/plain": [
       "2.0"
      ]
     },
     "execution_count": 240,
     "metadata": {},
     "output_type": "execute_result"
    }
   ],
   "source": [
    "error_compuerta_AND(x_repetido,compuerta_AND)"
   ]
  },
  {
   "cell_type": "code",
   "execution_count": 311,
   "id": "414c0a14",
   "metadata": {},
   "outputs": [
    {
     "name": "stdout",
     "output_type": "stream",
     "text": [
      "Error: Existen entradas incorrectas o la lógica de la compuerta AND no es la correcta.\n",
      "Error: Existen entradas incorrectas o la lógica de la compuerta AND no es la correcta.\n"
     ]
    },
    {
     "data": {
      "image/png": "[encoded data removed]",
      "text/plain": [
       "<Figure size 432x288 with 1 Axes>"
      ]
     },
     "metadata": {
      "needs_background": "light"
     },
     "output_type": "display_data"
    },
    {
     "name": "stdout",
     "output_type": "stream",
     "text": [
      "        Entrada  Salida\n",
      "0  [1, 1, 1, 1]     1.0\n",
      "1  [0, 1, 1, 1]     0.0\n",
      "2  [1, 1, 1, 1]     1.0\n",
      "3  [1, 1, 0, 1]     0.0\n",
      "4  [1, 1, 1, 1]     1.0\n",
      "5  [1, 1, 1, 1]     1.0\n",
      "6  [1, 1, 1, 1]     1.0\n"
     ]
    }
   ],
   "source": [
    "graficar_compuerta(x_repetido,compuerta_AND,error_compuerta_AND,'Salida del perceptrón para la compuerta AND')"
   ]
  },
  {
   "cell_type": "markdown",
   "id": "29c0bb18",
   "metadata": {},
   "source": [
    "##### - Prueba OR\n",
    "Para la prueba en el caso de la compuerta OR, sabemos que si existen $x^2$ posibles combinaciones de entradas (donde $x$ es la cantidad de entradas), siempre existirá una salida que jamás tendrá el valor $1$. Por lo tanto, haremos un chequeo para detectar un error cuando la suma de los resultados de $\\text{OR}(x)$ sea igual o mayor que $x^2$, teniendo la misma regla del caso anterior en la que cada combinación solo puede existir una vez en nuestro arreglo.\n",
    "\n",
    "En el caso específico del perceptrón donde implementamos la compuerta $\\text{OR}$, sabemos que hay cuatro entradas, por lo tanto la cantidad de salidas será $4^2=4\\times4=16$."
   ]
  },
  {
   "cell_type": "code",
   "execution_count": 286,
   "id": "1c5ceaae",
   "metadata": {},
   "outputs": [],
   "source": [
    "def error_compuerta_OR(x,compuerta):\n",
    "    i = 0\n",
    "    for posible_valor in x:\n",
    "        i += compuerta(posible_valor)\n",
    "        if i >= (len(x[0])*len(x[0])):\n",
    "            print('Error: Existen entradas incorrectas o la lógica de la compuerta OR no es la correcta.')\n",
    "            return i\n",
    "    print(\"No se detectaron errores.\")\n",
    "    return 1"
   ]
  },
  {
   "cell_type": "code",
   "execution_count": 290,
   "id": "91cbb33c",
   "metadata": {},
   "outputs": [
    {
     "name": "stdout",
     "output_type": "stream",
     "text": [
      "No se detectaron errores.\n"
     ]
    },
    {
     "data": {
      "image/png": "[encoded data removed]",
      "text/plain": [
       "<Figure size 432x288 with 1 Axes>"
      ]
     },
     "metadata": {
      "needs_background": "light"
     },
     "output_type": "display_data"
    },
    {
     "name": "stdout",
     "output_type": "stream",
     "text": [
      "         Entrada  Salida\n",
      "0   [0, 0, 0, 0]     0.0\n",
      "1   [0, 0, 0, 1]     1.0\n",
      "2   [0, 0, 1, 0]     1.0\n",
      "3   [0, 0, 1, 1]     1.0\n",
      "4   [0, 1, 0, 0]     1.0\n",
      "5   [0, 1, 0, 1]     1.0\n",
      "6   [0, 1, 1, 0]     1.0\n",
      "7   [0, 1, 1, 1]     1.0\n",
      "8   [1, 0, 0, 0]     1.0\n",
      "9   [1, 0, 0, 1]     1.0\n",
      "10  [1, 0, 1, 0]     1.0\n",
      "11  [1, 0, 1, 1]     1.0\n",
      "12  [1, 1, 0, 0]     1.0\n",
      "13  [1, 1, 0, 1]     1.0\n",
      "14  [1, 1, 1, 0]     1.0\n",
      "15  [1, 1, 1, 1]     1.0\n"
     ]
    }
   ],
   "source": [
    "graficar_compuerta(x,compuerta_OR,error_compuerta_OR,'Salida del perceptrón para la compuerta OR')"
   ]
  },
  {
   "cell_type": "markdown",
   "id": "4e482cf4",
   "metadata": {},
   "source": [
    "En el ejemplo de arriba, la suma total da 15. Sin embargo, en el ejemplo de abajo, la suma total supera el valor de 15 y nuestro código insertará una línea roja desde el punto en el que el error aparece, considerando incorrecto el gráfico desde esa línea vertical hacia la derecha."
   ]
  },
  {
   "cell_type": "code",
   "execution_count": 313,
   "id": "360a71d0",
   "metadata": {},
   "outputs": [],
   "source": [
    "x_error_or = np.copy(x)\n",
    "x_error_or = x_error_or.tolist()\n",
    "x_error_or.append([1,2,1,1])"
   ]
  },
  {
   "cell_type": "code",
   "execution_count": 314,
   "id": "a7ede71c",
   "metadata": {},
   "outputs": [
    {
     "name": "stdout",
     "output_type": "stream",
     "text": [
      "Error: Existen entradas incorrectas o la lógica de la compuerta OR no es la correcta.\n",
      "Error: Existen entradas incorrectas o la lógica de la compuerta OR no es la correcta.\n"
     ]
    },
    {
     "data": {
      "image/png": "[encoded data removed]",
      "text/plain": [
       "<Figure size 432x288 with 1 Axes>"
      ]
     },
     "metadata": {
      "needs_background": "light"
     },
     "output_type": "display_data"
    },
    {
     "name": "stdout",
     "output_type": "stream",
     "text": [
      "         Entrada  Salida\n",
      "0   [0, 0, 0, 0]     0.0\n",
      "1   [0, 0, 0, 1]     1.0\n",
      "2   [0, 0, 1, 0]     1.0\n",
      "3   [0, 0, 1, 1]     1.0\n",
      "4   [0, 1, 0, 0]     1.0\n",
      "5   [0, 1, 0, 1]     1.0\n",
      "6   [0, 1, 1, 0]     1.0\n",
      "7   [0, 1, 1, 1]     1.0\n",
      "8   [1, 0, 0, 0]     1.0\n",
      "9   [1, 0, 0, 1]     1.0\n",
      "10  [1, 0, 1, 0]     1.0\n",
      "11  [1, 0, 1, 1]     1.0\n",
      "12  [1, 1, 0, 0]     1.0\n",
      "13  [1, 1, 0, 1]     1.0\n",
      "14  [1, 1, 1, 0]     1.0\n",
      "15  [1, 1, 1, 1]     1.0\n",
      "16  [1, 2, 1, 1]     1.0\n"
     ]
    }
   ],
   "source": [
    "graficar_compuerta(x_error_or,compuerta_OR,error_compuerta_OR,'Salida del perceptrón para la compuerta OR')"
   ]
  },
  {
   "cell_type": "markdown",
   "id": "5e4c6b6a",
   "metadata": {},
   "source": [
    "##### - Prueba XOR\n",
    "Bajo la misma lógica que la prueba anterior, sabemos que la suma de todas las salidas de $\\text{XOR}$ siempre será $x^2-2$, donde $x$ corresponde a la cantidad de entradas. Teniendo esto presente, tomaremos el código para validar $\\text{OR}$ y lo ajustaremos a $\\text{XOR}$, mostrándonos un error cuando la suma de las salidas supera $x^2-2$."
   ]
  },
  {
   "cell_type": "code",
   "execution_count": 305,
   "id": "c9987bb7",
   "metadata": {},
   "outputs": [],
   "source": [
    "def error_compuerta_XOR(x,compuerta):\n",
    "    i = 0\n",
    "    for posible_valor in x:\n",
    "        i += compuerta(posible_valor)\n",
    "        if i >= (len(x[0])*len(x[0])-1):\n",
    "            print('Error: Existen entradas incorrectas o la lógica de la compuerta XOR no es la correcta.')\n",
    "            return i\n",
    "    print(\"No se detectaron errores.\")\n",
    "    return 1"
   ]
  },
  {
   "cell_type": "code",
   "execution_count": 297,
   "id": "8fa51d31",
   "metadata": {},
   "outputs": [
    {
     "name": "stdout",
     "output_type": "stream",
     "text": [
      "No se detectaron errores.\n"
     ]
    },
    {
     "data": {
      "image/png": "[encoded data removed]",
      "text/plain": [
       "<Figure size 432x288 with 1 Axes>"
      ]
     },
     "metadata": {
      "needs_background": "light"
     },
     "output_type": "display_data"
    },
    {
     "name": "stdout",
     "output_type": "stream",
     "text": [
      "         Entrada  Salida\n",
      "0   [0, 0, 0, 0]     0.0\n",
      "1   [0, 0, 0, 1]     1.0\n",
      "2   [0, 0, 1, 0]     1.0\n",
      "3   [0, 0, 1, 1]     1.0\n",
      "4   [0, 1, 0, 0]     1.0\n",
      "5   [0, 1, 0, 1]     1.0\n",
      "6   [0, 1, 1, 0]     1.0\n",
      "7   [0, 1, 1, 1]     1.0\n",
      "8   [1, 0, 0, 0]     1.0\n",
      "9   [1, 0, 0, 1]     1.0\n",
      "10  [1, 0, 1, 0]     1.0\n",
      "11  [1, 0, 1, 1]     1.0\n",
      "12  [1, 1, 0, 0]     1.0\n",
      "13  [1, 1, 0, 1]     1.0\n",
      "14  [1, 1, 1, 0]     1.0\n",
      "15  [1, 1, 1, 1]     0.0\n"
     ]
    }
   ],
   "source": [
    "graficar_compuerta(x,compuerta_XOR,error_compuerta_XOR,'Salida del perceptrón para la compuerta XOR')"
   ]
  },
  {
   "cell_type": "code",
   "execution_count": 303,
   "id": "a9c05fad",
   "metadata": {},
   "outputs": [],
   "source": [
    "x_error_xor = np.copy(x)\n",
    "x_error_xor = x_error_xor.tolist()\n",
    "x_error_xor.remove([1,1,1,1])\n",
    "x_error_xor.append([1,0,1,1])\n",
    "x_error_xor.append([1,0,0,1])\n",
    "x_error_xor.append([1,0,1,0])\n",
    "x_error_xor.append([1,1,1,1])"
   ]
  },
  {
   "cell_type": "code",
   "execution_count": 315,
   "id": "898ad0cf",
   "metadata": {},
   "outputs": [
    {
     "name": "stdout",
     "output_type": "stream",
     "text": [
      "Error: Existen entradas incorrectas o la lógica de la compuerta XOR no es la correcta.\n",
      "Error: Existen entradas incorrectas o la lógica de la compuerta XOR no es la correcta.\n"
     ]
    },
    {
     "data": {
      "image/png": "[encoded data removed]",
      "text/plain": [
       "<Figure size 432x288 with 1 Axes>"
      ]
     },
     "metadata": {
      "needs_background": "light"
     },
     "output_type": "display_data"
    },
    {
     "name": "stdout",
     "output_type": "stream",
     "text": [
      "         Entrada  Salida\n",
      "0   [0, 0, 0, 0]     0.0\n",
      "1   [0, 0, 0, 1]     1.0\n",
      "2   [0, 0, 1, 0]     1.0\n",
      "3   [0, 0, 1, 1]     1.0\n",
      "4   [0, 1, 0, 0]     1.0\n",
      "5   [0, 1, 0, 1]     1.0\n",
      "6   [0, 1, 1, 0]     1.0\n",
      "7   [0, 1, 1, 1]     1.0\n",
      "8   [1, 0, 0, 0]     1.0\n",
      "9   [1, 0, 0, 1]     1.0\n",
      "10  [1, 0, 1, 0]     1.0\n",
      "11  [1, 0, 1, 1]     1.0\n",
      "12  [1, 1, 0, 0]     1.0\n",
      "13  [1, 1, 0, 1]     1.0\n",
      "14  [1, 1, 1, 0]     1.0\n",
      "15  [1, 0, 1, 1]     1.0\n",
      "16  [1, 0, 0, 1]     1.0\n",
      "17  [1, 0, 1, 0]     1.0\n",
      "18  [1, 1, 1, 1]     0.0\n"
     ]
    }
   ],
   "source": [
    "graficar_compuerta(x_error_xor,compuerta_XOR,error_compuerta_XOR,'Salida del perceptrón para la compuerta XOR (Error)')"
   ]
  },
  {
   "cell_type": "markdown",
   "id": "96f33003",
   "metadata": {},
   "source": [
    "#### 5. Análisis\n",
    ">Analizar y concluír sobre los resultados obtenidos en los pasos 2, 3 y 4."
   ]
  },
  {
   "cell_type": "markdown",
   "id": "e51ab067",
   "metadata": {},
   "source": [
    "<!-- Respecto a la compuerta AND y OR, sabemos que el perceptrón devolverá $1$ para cualquier valor entrante mayor o igual que $0$, así que decidimos asignarle el valor $-1.9$ a $b$ para que el resultado de la suma $x_1w_1+x_2w_2+b$ sea $0.1$ solo cuando se cumpla simultáneamente que $x_1=1$ y $x_2=1$. Al analizarlo con el código dentro del $\\text{for}$ en la misma celda donde definimos la función, pudimos comprobar que la compuerta funciona correctamente. -->"
   ]
  },
  {
   "cell_type": "code",
   "execution_count": null,
   "id": "6e4f964f",
   "metadata": {},
   "outputs": [],
   "source": []
  }
 ],
 "metadata": {
  "kernelspec": {
   "display_name": "Python 3",
   "language": "python",
   "name": "python3"
  },
  "language_info": {
   "codemirror_mode": {
    "name": "ipython",
    "version": 3
   },
   "file_extension": ".py",
   "mimetype": "text/x-python",
   "name": "python",
   "nbconvert_exporter": "python",
   "pygments_lexer": "ipython3",
   "version": "3.9.1"
  }
 },
 "nbformat": 4,
 "nbformat_minor": 5
}
