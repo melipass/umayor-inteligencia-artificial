{
 "cells": [
  {
   "cell_type": "markdown",
   "id": "b2842947",
   "metadata": {},
   "source": [
    "<img src=\"https://raw.githubusercontent.com/melipass/umayor-ui-proyectos/main/logo-escuela.png\" width=\"400\" align=\"left\" style=\"margin-bottom:20px;margin-right:20px;margin-top:25px\">\n",
    "   \n",
    "# Inteligencia Artificial\n",
    "## Experiencia de Laboratorio 6: Perceptrón simple\n"
   ]
  },
  {
   "cell_type": "markdown",
   "id": "14842701",
   "metadata": {},
   "source": [
    "## Objetivo\n",
    "Comprobar el funcionamiento de los modelos de redes neuronales correspondientes al perceptrón simple."
   ]
  },
  {
   "cell_type": "markdown",
   "id": "ded8f362",
   "metadata": {},
   "source": [
    "## Conceptos\n",
    "### Perceptrón\n",
    "El perceptrón es la red neuronal más básica, de una sola capa y con una función de activación de escalón. El perceptrón se utiliza para la clasificación binaria de datos."
   ]
  },
  {
   "cell_type": "markdown",
   "id": "308e512e",
   "metadata": {},
   "source": [
    "## Desarrollo\n",
    "### 1. Implementar el perceptrón\n",
    "\n",
    ">Implementar un perceptrón simple y genérico en Python con una función de activación. Ajustar los pesos en cada iteración según corresponda, y entregar una salida acorde a la entrada recibida."
   ]
  },
  {
   "cell_type": "code",
   "execution_count": 1,
   "id": "c3e87436",
   "metadata": {},
   "outputs": [
    {
     "data": {
      "text/html": [
       "\n",
       "<style>\n",
       ".output_png {\n",
       "    display: table-cell;\n",
       "    text-align: center;\n",
       "    vertical-align: middle;\n",
       "}\n",
       "</style>\n"
      ],
      "text/plain": [
       "<IPython.core.display.HTML object>"
      ]
     },
     "execution_count": 1,
     "metadata": {},
     "output_type": "execute_result"
    }
   ],
   "source": [
    "# Inicializamos el notebook. De ser necesario, hay que instalar las librerías.\n",
    "\n",
    "#!pip install seaborn\n",
    "#!pip install numpy\n",
    "#!pip install matplotlib\n",
    "#!pip install pandas\n",
    "\n",
    "import seaborn as sn\n",
    "import numpy as np\n",
    "import matplotlib.pyplot as plt\n",
    "%matplotlib inline\n",
    "import pandas as pd\n",
    "import itertools # para generar las tablas de valor\n",
    "from IPython.core.display import HTML\n",
    "HTML(\"\"\"\n",
    "<style>\n",
    ".output_png {\n",
    "    display: table-cell;\n",
    "    text-align: center;\n",
    "    vertical-align: middle;\n",
    "}\n",
    "</style>\n",
    "\"\"\")"
   ]
  },
  {
   "cell_type": "markdown",
   "id": "d51cbcdf",
   "metadata": {},
   "source": [
    "Según lo visto en clases, la función de activación del perceptrón es la de escalón, y será la utilizada en este notebook. Esta está definida de la siguiente manera:\n",
    "\n",
    "$$ \\theta(z)=   \\left\\{\n",
    "\\begin{array}{ll}\n",
    "      1 & z \\geq 0 \\\\\n",
    "      0 & z < 0 \\\\\n",
    "\\end{array} \n",
    "\\right.  $$\n",
    "\n",
    "En donde el valor de $z$ corresponde a el valor ingresado en la función de activación $\\theta$, y la salida de la función solo tiene dos valores posibles: $0$ y $1$."
   ]
  },
  {
   "cell_type": "code",
   "execution_count": 2,
   "id": "72b7e3b9",
   "metadata": {},
   "outputs": [],
   "source": [
    "# Función de activación del perceptrón\n",
    "def theta(z):\n",
    "    return 1.0 if (z > 0) else 0.0"
   ]
  },
  {
   "cell_type": "code",
   "execution_count": 3,
   "id": "e3c971a5",
   "metadata": {},
   "outputs": [
    {
     "data": {
      "image/png": "[encoded data removed]",
      "text/plain": [
       "<Figure size 432x288 with 1 Axes>"
      ]
     },
     "metadata": {
      "needs_background": "light"
     },
     "output_type": "display_data"
    }
   ],
   "source": [
    "# Gráfico que representa la función de activación anterior\n",
    "x = [-10,0,1,10] \n",
    "y = [0,0,1,1]\n",
    "plt.step(x, y)\n",
    "plt.show()"
   ]
  },
  {
   "cell_type": "markdown",
   "id": "3880cc11",
   "metadata": {},
   "source": [
    "Usando esta función, definimos el perceptrón como:\n",
    "\n",
    "$$\n",
    "y(\\text{x},\\text{w},b) = \\theta(\\text{w}\\cdot\\text{x}+b) = \\theta(w_1x_1+w_2x_2+\\dots+w_nx_n+b)\n",
    "$$\n",
    "\n",
    "Donde el vector $\\text{x}$ corresponde a las entradas del perceptrón y el vector $\\text{w}$ corresponde al peso asignado a cada uno. Esto se suma para después aplicar la función de activación, y queda nuestro perceptrón de la siguiente manera:"
   ]
  },
  {
   "cell_type": "code",
   "execution_count": 4,
   "id": "2bf495f9",
   "metadata": {},
   "outputs": [],
   "source": [
    "def perceptron(x,w,b):\n",
    "    entrada_theta = np.dot(w,x)+b\n",
    "    return theta(entrada_theta)"
   ]
  },
  {
   "cell_type": "markdown",
   "id": "4ea9862b",
   "metadata": {},
   "source": [
    "### 2. Probar el perceptrón en AND, OR y XOR\n",
    ">Probar el perceptrón implementado para una compuerta lógica $\\text{AND}$, $\\text{OR}$ y $\\text{XOR}$ con una entrada de tamaño 4.\n",
    "\n",
    "Para implementar perceptrones que simulen las compuertas lógicas $\\text{AND}$, $\\text{OR}$ y $\\text{XOR}$ y que tengan cuatro entradas, debemos tomar el perceptrón y ajustarlo para que quede de la siguiente manera:\n",
    "$$\n",
    "y(\\text{x})=\\theta(w_1x_1+w_2x_2+w_3x_3+w_4x_4+b)\n",
    "$$\n",
    "\n",
    "También, sabemos que existe un total de 16 posibles combinaciones de entradas para las compuertras con cuatro entradas, así que las dejaremos codificadas en un arreglo para probar en la parte 4:"
   ]
  },
  {
   "cell_type": "code",
   "execution_count": 5,
   "id": "8ba6b8f9",
   "metadata": {},
   "outputs": [
    {
     "name": "stdout",
     "output_type": "stream",
     "text": [
      "[[0, 0, 0, 0], [0, 0, 0, 1], [0, 0, 1, 0], [0, 0, 1, 1], [0, 1, 0, 0], [0, 1, 0, 1], [0, 1, 1, 0], [0, 1, 1, 1], [1, 0, 0, 0], [1, 0, 0, 1], [1, 0, 1, 0], [1, 0, 1, 1], [1, 1, 0, 0], [1, 1, 0, 1], [1, 1, 1, 0], [1, 1, 1, 1]]\n"
     ]
    }
   ],
   "source": [
    "l = [0,1]\n",
    "x = [list(i) for i in itertools.product(l, repeat=4)]\n",
    "print(x)"
   ]
  },
  {
   "cell_type": "markdown",
   "id": "5216e06f",
   "metadata": {},
   "source": [
    "#### 2.1. Compuerta AND\n",
    "\n",
    "La compuerta lógica $\\text{AND}$, en nuestro caso, entrega el valor $1$ solo cuando todas sus entradas son $1$. Para que el perceptrón nos entregue el valor $1$ solo cuando todos los valores son $1$, debemos asignar valores a cada peso $w$ y al valor $b$, quedando así:\n",
    "\n",
    "$$\n",
    "\\text{AND}(\\text{x})=\\theta(x_1+x_2+x_3+x_4-3.9)\n",
    "$$\n",
    "\n",
    "Donde decidimos dejar cada uno de los pesos $w_i = 1$ y el valor $b=-3.9$."
   ]
  },
  {
   "cell_type": "code",
   "execution_count": 6,
   "id": "5acc10a5",
   "metadata": {},
   "outputs": [],
   "source": [
    "def compuerta_AND(x):\n",
    "    w = [1,1,1,1]\n",
    "    b = -3.9\n",
    "    return perceptron(x,w,b)"
   ]
  },
  {
   "cell_type": "markdown",
   "id": "be4ab763",
   "metadata": {},
   "source": [
    "#### 2.2. Compuerta OR\n",
    "La compuerta lógica $\\text{OR}$ también obtiene cuatro valores binarios y devuelve $1$ cuando existe al menos una entrada con valor $1$. El perceptrón queda así:\n",
    "\n",
    "$$\n",
    "\\text{OR}(\\text{x})=\\theta(x_1+x_2+x_3+x_4-0.9)\n",
    "$$\n",
    "\n",
    "Donde decidimos dejar cada uno de los pesos $w_i = 1$ y el valor $b=-0.9$."
   ]
  },
  {
   "cell_type": "code",
   "execution_count": 7,
   "id": "db7d6594",
   "metadata": {},
   "outputs": [],
   "source": [
    "def compuerta_OR(x):\n",
    "    w = [1,1,1,1]\n",
    "    b = -0.9\n",
    "    return perceptron(x,w,b)"
   ]
  },
  {
   "cell_type": "markdown",
   "id": "bd1ffe3c",
   "metadata": {},
   "source": [
    "#### 2.3. Compuerta XOR\n",
    "En el caso de la compuerta $\\text{XOR}$, sabemos que es necesario que nuestra compuerta devuelva el valor $0$ cuando todas las entradas son $0$ o $1$. Para ello, tuvimos que codificar la siguiente situación:\n",
    "\n",
    "- Encontrar la función que nos de $0$ solo cuando $\\text{AND}$ nos devuelve $1$ (en otras palabras, hacer la compuerta $\\text{NAND}$).\n",
    "- Poder combinar el resultado de la compuerta $\\text{NAND}$ con el de la compuerta $\\text{OR}$, es decir, crear un $\\text{AND}$ con dos entradas.\n",
    "\n",
    "Una vez que identificamos esos dos requisitos creamos una función para cada uno, y así pudimos crear la compuerta $\\text{XOR}$ que funciona satisfactoriamente. De esta forma, nos quedó la función $\\text{XOR}$ como:\n",
    "\n",
    "$$\n",
    "\\text{XOR}(\\text{x})=\\text{AND}(\\text{NAND}(\\text{x}),\\text{OR}(\\text{x})) = \\text{AND}(\\text{NAND}(x_1,x_2,x_3,x_4),\\text{OR}(x_1,x_2,x_3,x_4))\n",
    "$$"
   ]
  },
  {
   "cell_type": "code",
   "execution_count": 8,
   "id": "93c38375",
   "metadata": {},
   "outputs": [],
   "source": [
    "def compuerta_AND_2_entradas(x):\n",
    "    w = [1,1]\n",
    "    b = -1.9\n",
    "    return perceptron(x,w,b)\n",
    "\n",
    "def compuerta_NAND(x):\n",
    "    w = [-1,-1,-1,-1]\n",
    "    b = 3.9\n",
    "    return perceptron(x,w,b)\n",
    "\n",
    "def compuerta_XOR(x):\n",
    "    compuerta_1 = compuerta_NAND(x)\n",
    "    compuerta_2 = compuerta_OR(x)\n",
    "    return compuerta_AND_2_entradas([compuerta_1,compuerta_2])"
   ]
  },
  {
   "cell_type": "markdown",
   "id": "b6e4f9b8",
   "metadata": {},
   "source": [
    "### 3. Probar el perceptrón con un dataset\n",
    ">Probar el perceptrón implementado para clasificar las entradas del dataset \"letters.csv\" determinando a qué letra corresponde cada entrada según las características recibidas.\n",
    "\n",
    "Primero que nada, cargamos los datos para ver con qué estamos trabajando."
   ]
  },
  {
   "cell_type": "code",
   "execution_count": 9,
   "id": "3b152069",
   "metadata": {},
   "outputs": [
    {
     "data": {
      "text/html": [
       "<div>\n",
       "<style scoped>\n",
       "    .dataframe tbody tr th:only-of-type {\n",
       "        vertical-align: middle;\n",
       "    }\n",
       "\n",
       "    .dataframe tbody tr th {\n",
       "        vertical-align: top;\n",
       "    }\n",
       "\n",
       "    .dataframe thead th {\n",
       "        text-align: right;\n",
       "    }\n",
       "</style>\n",
       "<table border=\"1\" class=\"dataframe\">\n",
       "  <thead>\n",
       "    <tr style=\"text-align: right;\">\n",
       "      <th></th>\n",
       "      <th>0</th>\n",
       "      <th>1</th>\n",
       "      <th>2</th>\n",
       "    </tr>\n",
       "  </thead>\n",
       "  <tbody>\n",
       "    <tr>\n",
       "      <th>0</th>\n",
       "      <td>0.0</td>\n",
       "      <td>0.3</td>\n",
       "      <td>o</td>\n",
       "    </tr>\n",
       "    <tr>\n",
       "      <th>1</th>\n",
       "      <td>0.3</td>\n",
       "      <td>0.0</td>\n",
       "      <td>o</td>\n",
       "    </tr>\n",
       "    <tr>\n",
       "      <th>2</th>\n",
       "      <td>0.6</td>\n",
       "      <td>0.2</td>\n",
       "      <td>o</td>\n",
       "    </tr>\n",
       "    <tr>\n",
       "      <th>3</th>\n",
       "      <td>0.5</td>\n",
       "      <td>0.1</td>\n",
       "      <td>o</td>\n",
       "    </tr>\n",
       "    <tr>\n",
       "      <th>4</th>\n",
       "      <td>0.2</td>\n",
       "      <td>0.4</td>\n",
       "      <td>o</td>\n",
       "    </tr>\n",
       "    <tr>\n",
       "      <th>...</th>\n",
       "      <td>...</td>\n",
       "      <td>...</td>\n",
       "      <td>...</td>\n",
       "    </tr>\n",
       "    <tr>\n",
       "      <th>95</th>\n",
       "      <td>0.8</td>\n",
       "      <td>0.1</td>\n",
       "      <td>l</td>\n",
       "    </tr>\n",
       "    <tr>\n",
       "      <th>96</th>\n",
       "      <td>0.6</td>\n",
       "      <td>0.7</td>\n",
       "      <td>o</td>\n",
       "    </tr>\n",
       "    <tr>\n",
       "      <th>97</th>\n",
       "      <td>1.0</td>\n",
       "      <td>0.7</td>\n",
       "      <td>o</td>\n",
       "    </tr>\n",
       "    <tr>\n",
       "      <th>98</th>\n",
       "      <td>0.9</td>\n",
       "      <td>0.0</td>\n",
       "      <td>l</td>\n",
       "    </tr>\n",
       "    <tr>\n",
       "      <th>99</th>\n",
       "      <td>0.6</td>\n",
       "      <td>0.1</td>\n",
       "      <td>o</td>\n",
       "    </tr>\n",
       "  </tbody>\n",
       "</table>\n",
       "<p>100 rows × 3 columns</p>\n",
       "</div>"
      ],
      "text/plain": [
       "      0    1  2\n",
       "0   0.0  0.3  o\n",
       "1   0.3  0.0  o\n",
       "2   0.6  0.2  o\n",
       "3   0.5  0.1  o\n",
       "4   0.2  0.4  o\n",
       "..  ...  ... ..\n",
       "95  0.8  0.1  l\n",
       "96  0.6  0.7  o\n",
       "97  1.0  0.7  o\n",
       "98  0.9  0.0  l\n",
       "99  0.6  0.1  o\n",
       "\n",
       "[100 rows x 3 columns]"
      ]
     },
     "execution_count": 9,
     "metadata": {},
     "output_type": "execute_result"
    }
   ],
   "source": [
    "df = pd.read_csv('letters.csv', header=None)\n",
    "df"
   ]
  },
  {
   "cell_type": "code",
   "execution_count": 10,
   "id": "2149f5d8",
   "metadata": {},
   "outputs": [
    {
     "data": {
      "text/plain": [
       "array(['o', 'l'], dtype=object)"
      ]
     },
     "execution_count": 10,
     "metadata": {},
     "output_type": "execute_result"
    }
   ],
   "source": [
    "df[2].unique()"
   ]
  },
  {
   "cell_type": "markdown",
   "id": "71fd365c",
   "metadata": {},
   "source": [
    "Todos los valores numéricos de la tabla son positivos y no tenemos información de qué significa cada uno de ellos. Asumiremos que las dos primeras columnas de cada fila $i$ corresponderán a valores de entrada $x_1$ y $x_2$, el peso lo dejaremos como $1$ y la tercera columna será la letra a clasificar, con valor ``o`` o ``l``."
   ]
  },
  {
   "cell_type": "markdown",
   "id": "bb5cb3ec",
   "metadata": {},
   "source": [
    "A continuación pasamos los datos del dataframe a un array:"
   ]
  },
  {
   "cell_type": "code",
   "execution_count": 11,
   "id": "b8f42cb6",
   "metadata": {},
   "outputs": [],
   "source": [
    "datos = np.copy(df)\n",
    "datos = np.array(datos)"
   ]
  },
  {
   "cell_type": "markdown",
   "id": "d9c47afb",
   "metadata": {},
   "source": [
    "Creamos una función que nos devuelva un dataframe con la letra y  la salida del perceptrón. Al perceptrón le daremos las dos columnas numéricas como entradas, un peso $\\text{w}$ y un valor $b$ como variables para optimizar la clasificación en la sección 4."
   ]
  },
  {
   "cell_type": "code",
   "execution_count": 12,
   "id": "c9116d5c",
   "metadata": {},
   "outputs": [],
   "source": [
    "def perceptron_datos(x,w,b):\n",
    "    df_datos = []\n",
    "    for valor in x:\n",
    "        df_datos.append([valor[2],perceptron([valor[0],valor[1]],w,b),valor[0],valor[1]])\n",
    "    return df_datos"
   ]
  },
  {
   "cell_type": "markdown",
   "id": "23003fe3",
   "metadata": {},
   "source": [
    "### 4. Cálculo de error\n",
    ">Calcular el error obtenido en los pasos 2 y 3 durante el entrenamiento del perceptrón y expresarlo a través de un gráfico Iteración vs. Error."
   ]
  },
  {
   "cell_type": "markdown",
   "id": "1eced877",
   "metadata": {},
   "source": [
    "#### 4.1. Perceptrones de compuertas lógicas\n",
    "Para poder confirmar visualmente la existencia de un error dentro de nuestros perceptrones que implementan compuertas lógicas, decidimos hacer una función genérica para crear gráficos escalonados. De esta manera, tendremos una guía visual de cuándo un perceptrón devuelve $0$ y cuándo devuelve $1$, y le entregaremos una función que marca el momento en el que se detecta un error para cada uno de los perceptrones."
   ]
  },
  {
   "cell_type": "code",
   "execution_count": 13,
   "id": "fd420664",
   "metadata": {},
   "outputs": [],
   "source": [
    "def graficar_compuerta(x,compuerta,detector_error,titulo):\n",
    "    h = [0]\n",
    "    v = [0]\n",
    "    i = 1\n",
    "    error_en_titulo = \"\"\n",
    "    for posible_valor in x:\n",
    "        h.append(i)\n",
    "        i += 1\n",
    "        v.append(compuerta(posible_valor))\n",
    "    plt.plot(h, v)\n",
    "    plt.scatter(h, v, color=\"orchid\", marker=\"x\", s=50)\n",
    "    plt.xticks(h)\n",
    "    plt.yticks(v)\n",
    "    if detector_error(x,compuerta) != 1:\n",
    "        x_error = int(detector_error(x,compuerta))\n",
    "        plt.axvline(x = x_error+1, color = 'red')\n",
    "        error_en_titulo = \" (Error)\"\n",
    "    plt.title(titulo+error_en_titulo)\n",
    "    plt.show()\n",
    "    df = pd.DataFrame({'Entrada': x, 'Salida': v[1:]})\n",
    "    print(df)"
   ]
  },
  {
   "cell_type": "markdown",
   "id": "1670173f",
   "metadata": {},
   "source": [
    "##### 4.1.1. Prueba AND\n",
    "\n",
    "Sabiendo que la suma de todos los posibles resultados de la compuerta AND es $1$, sabemos que para un conjunto de entradas $x_n$, donde ninguna combinación de entradas se repite, jamás superaremos el valor 1 al sumar todas las salidas, cualquiera sea su dimensión. Teniendo esto presente, también creamos la siguiente función:"
   ]
  },
  {
   "cell_type": "code",
   "execution_count": 14,
   "id": "60d8bb41",
   "metadata": {},
   "outputs": [
    {
     "name": "stdout",
     "output_type": "stream",
     "text": [
      "No se detectaron errores.\n"
     ]
    },
    {
     "data": {
      "text/plain": [
       "1"
      ]
     },
     "execution_count": 14,
     "metadata": {},
     "output_type": "execute_result"
    }
   ],
   "source": [
    "def error_compuerta_AND(x,compuerta):\n",
    "    i = 0\n",
    "    for posible_valor in x:\n",
    "        i += compuerta(posible_valor)\n",
    "        if i > 1:\n",
    "            print('Error: Existen entradas incorrectas o la lógica de la compuerta AND no es la correcta.')\n",
    "            return i\n",
    "    print(\"No se detectaron errores.\")\n",
    "    return 1\n",
    "\n",
    "error_compuerta_AND(x,compuerta_AND)"
   ]
  },
  {
   "cell_type": "markdown",
   "id": "d60221d1",
   "metadata": {},
   "source": [
    "Tomando los valores que asignamos en la sección 2, obtenemos el siguiente gráfico y la siguiente tabla, donde en el eje x tendremos el índice de la combinación de entradas y en el eje y si esta corresponde a 0 o a 1, lo que nos permitirá confirmar si hay o no hay errores."
   ]
  },
  {
   "cell_type": "code",
   "execution_count": 15,
   "id": "0fceeebe",
   "metadata": {},
   "outputs": [
    {
     "name": "stdout",
     "output_type": "stream",
     "text": [
      "No se detectaron errores.\n"
     ]
    },
    {
     "data": {
      "image/png": "[encoded data removed]",
      "text/plain": [
       "<Figure size 432x288 with 1 Axes>"
      ]
     },
     "metadata": {
      "needs_background": "light"
     },
     "output_type": "display_data"
    },
    {
     "name": "stdout",
     "output_type": "stream",
     "text": [
      "         Entrada  Salida\n",
      "0   [0, 0, 0, 0]     0.0\n",
      "1   [0, 0, 0, 1]     0.0\n",
      "2   [0, 0, 1, 0]     0.0\n",
      "3   [0, 0, 1, 1]     0.0\n",
      "4   [0, 1, 0, 0]     0.0\n",
      "5   [0, 1, 0, 1]     0.0\n",
      "6   [0, 1, 1, 0]     0.0\n",
      "7   [0, 1, 1, 1]     0.0\n",
      "8   [1, 0, 0, 0]     0.0\n",
      "9   [1, 0, 0, 1]     0.0\n",
      "10  [1, 0, 1, 0]     0.0\n",
      "11  [1, 0, 1, 1]     0.0\n",
      "12  [1, 1, 0, 0]     0.0\n",
      "13  [1, 1, 0, 1]     0.0\n",
      "14  [1, 1, 1, 0]     0.0\n",
      "15  [1, 1, 1, 1]     1.0\n"
     ]
    }
   ],
   "source": [
    "graficar_compuerta(x,compuerta_AND,error_compuerta_AND,'Salida del perceptrón para la compuerta AND')"
   ]
  },
  {
   "cell_type": "markdown",
   "id": "7cbd4fdb",
   "metadata": {},
   "source": [
    "Para poner a prueba nuestro perceptrón que implementa una compuerta, usaremos dos conjuntos: uno con valores que no deberían ser aceptados, y otro con valores repetidos. La línea roja representará la iteración desde la cual comienza a estar erróneo nuestro perceptrón bajo las reglas establecidas de no repetición y admisión exclusiva de entradas $0$ y $1$, teniendo que los valores a la derecha de la línea ya no son correctos pues harán que la suma de todas las salidas sea mayor a $1$."
   ]
  },
  {
   "cell_type": "code",
   "execution_count": 16,
   "id": "9f846e5f",
   "metadata": {},
   "outputs": [],
   "source": [
    "x_2_3 = [[2,3,3,2],[2,2,2,2],[3,3,3,3]]\n",
    "x_repetido = [[1,1,1,1],[0,1,1,1],[1,1,1,1],[1,1,0,1],[1,1,1,1],[1,1,1,1],[1,1,1,1]]"
   ]
  },
  {
   "cell_type": "code",
   "execution_count": 17,
   "id": "6fa17698",
   "metadata": {},
   "outputs": [
    {
     "name": "stdout",
     "output_type": "stream",
     "text": [
      "Error: Existen entradas incorrectas o la lógica de la compuerta AND no es la correcta.\n"
     ]
    },
    {
     "data": {
      "text/plain": [
       "2.0"
      ]
     },
     "execution_count": 17,
     "metadata": {},
     "output_type": "execute_result"
    }
   ],
   "source": [
    "error_compuerta_AND(x_2_3,compuerta_AND)"
   ]
  },
  {
   "cell_type": "code",
   "execution_count": 18,
   "id": "cd5320e9",
   "metadata": {},
   "outputs": [
    {
     "name": "stdout",
     "output_type": "stream",
     "text": [
      "Error: Existen entradas incorrectas o la lógica de la compuerta AND no es la correcta.\n",
      "Error: Existen entradas incorrectas o la lógica de la compuerta AND no es la correcta.\n"
     ]
    },
    {
     "data": {
      "image/png": "[encoded data removed]",
      "text/plain": [
       "<Figure size 432x288 with 1 Axes>"
      ]
     },
     "metadata": {
      "needs_background": "light"
     },
     "output_type": "display_data"
    },
    {
     "name": "stdout",
     "output_type": "stream",
     "text": [
      "        Entrada  Salida\n",
      "0  [2, 3, 3, 2]     1.0\n",
      "1  [2, 2, 2, 2]     1.0\n",
      "2  [3, 3, 3, 3]     1.0\n"
     ]
    }
   ],
   "source": [
    "graficar_compuerta(x_2_3,compuerta_AND,error_compuerta_AND,'Salida del perceptrón para la compuerta AND')"
   ]
  },
  {
   "cell_type": "code",
   "execution_count": 19,
   "id": "8995a45d",
   "metadata": {},
   "outputs": [
    {
     "name": "stdout",
     "output_type": "stream",
     "text": [
      "Error: Existen entradas incorrectas o la lógica de la compuerta AND no es la correcta.\n"
     ]
    },
    {
     "data": {
      "text/plain": [
       "2.0"
      ]
     },
     "execution_count": 19,
     "metadata": {},
     "output_type": "execute_result"
    }
   ],
   "source": [
    "error_compuerta_AND(x_repetido,compuerta_AND)"
   ]
  },
  {
   "cell_type": "code",
   "execution_count": 20,
   "id": "414c0a14",
   "metadata": {},
   "outputs": [
    {
     "name": "stdout",
     "output_type": "stream",
     "text": [
      "Error: Existen entradas incorrectas o la lógica de la compuerta AND no es la correcta.\n",
      "Error: Existen entradas incorrectas o la lógica de la compuerta AND no es la correcta.\n"
     ]
    },
    {
     "data": {
      "image/png": "[encoded data removed]",
      "text/plain": [
       "<Figure size 432x288 with 1 Axes>"
      ]
     },
     "metadata": {
      "needs_background": "light"
     },
     "output_type": "display_data"
    },
    {
     "name": "stdout",
     "output_type": "stream",
     "text": [
      "        Entrada  Salida\n",
      "0  [1, 1, 1, 1]     1.0\n",
      "1  [0, 1, 1, 1]     0.0\n",
      "2  [1, 1, 1, 1]     1.0\n",
      "3  [1, 1, 0, 1]     0.0\n",
      "4  [1, 1, 1, 1]     1.0\n",
      "5  [1, 1, 1, 1]     1.0\n",
      "6  [1, 1, 1, 1]     1.0\n"
     ]
    }
   ],
   "source": [
    "graficar_compuerta(x_repetido,compuerta_AND,error_compuerta_AND,'Salida del perceptrón para la compuerta AND')"
   ]
  },
  {
   "cell_type": "markdown",
   "id": "29c0bb18",
   "metadata": {},
   "source": [
    "##### 4.1.2. Prueba OR\n",
    "Para la prueba en el caso de la compuerta OR, sabemos que si existen $x^2$ posibles combinaciones de entradas (donde $x$ es la cantidad de entradas), siempre existirá una salida que jamás tendrá el valor $1$. Por lo tanto, haremos un chequeo para detectar un error cuando la suma de los resultados de $\\text{OR}(x)$ sea igual o mayor que $x^2$, teniendo la misma regla del caso anterior en la que cada combinación solo puede existir una vez en nuestro arreglo.\n",
    "\n",
    "En el caso específico del perceptrón donde implementamos la compuerta $\\text{OR}$, sabemos que hay cuatro entradas, por lo tanto la cantidad de salidas será $4^2=4\\times4=16$."
   ]
  },
  {
   "cell_type": "code",
   "execution_count": 21,
   "id": "1c5ceaae",
   "metadata": {},
   "outputs": [],
   "source": [
    "def error_compuerta_OR(x,compuerta):\n",
    "    i = 0\n",
    "    for posible_valor in x:\n",
    "        i += compuerta(posible_valor)\n",
    "        if i >= (len(x[0])*len(x[0])):\n",
    "            print('Error: Existen entradas incorrectas o la lógica de la compuerta OR no es la correcta.')\n",
    "            return i\n",
    "    print(\"No se detectaron errores.\")\n",
    "    return 1"
   ]
  },
  {
   "cell_type": "code",
   "execution_count": 22,
   "id": "91cbb33c",
   "metadata": {},
   "outputs": [
    {
     "name": "stdout",
     "output_type": "stream",
     "text": [
      "No se detectaron errores.\n"
     ]
    },
    {
     "data": {
      "image/png": "[encoded data removed]",
      "text/plain": [
       "<Figure size 432x288 with 1 Axes>"
      ]
     },
     "metadata": {
      "needs_background": "light"
     },
     "output_type": "display_data"
    },
    {
     "name": "stdout",
     "output_type": "stream",
     "text": [
      "         Entrada  Salida\n",
      "0   [0, 0, 0, 0]     0.0\n",
      "1   [0, 0, 0, 1]     1.0\n",
      "2   [0, 0, 1, 0]     1.0\n",
      "3   [0, 0, 1, 1]     1.0\n",
      "4   [0, 1, 0, 0]     1.0\n",
      "5   [0, 1, 0, 1]     1.0\n",
      "6   [0, 1, 1, 0]     1.0\n",
      "7   [0, 1, 1, 1]     1.0\n",
      "8   [1, 0, 0, 0]     1.0\n",
      "9   [1, 0, 0, 1]     1.0\n",
      "10  [1, 0, 1, 0]     1.0\n",
      "11  [1, 0, 1, 1]     1.0\n",
      "12  [1, 1, 0, 0]     1.0\n",
      "13  [1, 1, 0, 1]     1.0\n",
      "14  [1, 1, 1, 0]     1.0\n",
      "15  [1, 1, 1, 1]     1.0\n"
     ]
    }
   ],
   "source": [
    "graficar_compuerta(x,compuerta_OR,error_compuerta_OR,'Salida del perceptrón para la compuerta OR')"
   ]
  },
  {
   "cell_type": "markdown",
   "id": "4e482cf4",
   "metadata": {},
   "source": [
    "En el ejemplo de arriba, la suma total da 15. Sin embargo, en el ejemplo de abajo, la suma total supera el valor de 15 y nuestro código insertará una línea roja desde el punto en el que el error aparece, considerando incorrecto el gráfico desde esa línea vertical hacia la derecha."
   ]
  },
  {
   "cell_type": "code",
   "execution_count": 23,
   "id": "360a71d0",
   "metadata": {},
   "outputs": [],
   "source": [
    "x_error_or = np.copy(x)\n",
    "x_error_or = x_error_or.tolist()\n",
    "x_error_or.append([1,2,1,1])\n",
    "x_error_or.append([1,2,5,1])"
   ]
  },
  {
   "cell_type": "code",
   "execution_count": 24,
   "id": "a7ede71c",
   "metadata": {},
   "outputs": [
    {
     "name": "stdout",
     "output_type": "stream",
     "text": [
      "Error: Existen entradas incorrectas o la lógica de la compuerta OR no es la correcta.\n",
      "Error: Existen entradas incorrectas o la lógica de la compuerta OR no es la correcta.\n"
     ]
    },
    {
     "data": {
      "image/png": "[encoded data removed]",
      "text/plain": [
       "<Figure size 432x288 with 1 Axes>"
      ]
     },
     "metadata": {
      "needs_background": "light"
     },
     "output_type": "display_data"
    },
    {
     "name": "stdout",
     "output_type": "stream",
     "text": [
      "         Entrada  Salida\n",
      "0   [0, 0, 0, 0]     0.0\n",
      "1   [0, 0, 0, 1]     1.0\n",
      "2   [0, 0, 1, 0]     1.0\n",
      "3   [0, 0, 1, 1]     1.0\n",
      "4   [0, 1, 0, 0]     1.0\n",
      "5   [0, 1, 0, 1]     1.0\n",
      "6   [0, 1, 1, 0]     1.0\n",
      "7   [0, 1, 1, 1]     1.0\n",
      "8   [1, 0, 0, 0]     1.0\n",
      "9   [1, 0, 0, 1]     1.0\n",
      "10  [1, 0, 1, 0]     1.0\n",
      "11  [1, 0, 1, 1]     1.0\n",
      "12  [1, 1, 0, 0]     1.0\n",
      "13  [1, 1, 0, 1]     1.0\n",
      "14  [1, 1, 1, 0]     1.0\n",
      "15  [1, 1, 1, 1]     1.0\n",
      "16  [1, 2, 1, 1]     1.0\n",
      "17  [1, 2, 5, 1]     1.0\n"
     ]
    }
   ],
   "source": [
    "graficar_compuerta(x_error_or,compuerta_OR,error_compuerta_OR,'Salida del perceptrón para la compuerta OR')"
   ]
  },
  {
   "cell_type": "markdown",
   "id": "5e4c6b6a",
   "metadata": {},
   "source": [
    "##### 4.1.3. Prueba XOR\n",
    "Bajo la misma lógica que la prueba anterior, sabemos que la suma de todas las salidas de $\\text{XOR}$ siempre será $x^2-2$, donde $x$ corresponde a la cantidad de entradas. Teniendo esto presente, tomaremos el código para validar $\\text{OR}$ y lo ajustaremos a $\\text{XOR}$, mostrándonos un error cuando la suma de las salidas supera $x^2-2$."
   ]
  },
  {
   "cell_type": "code",
   "execution_count": 25,
   "id": "c9987bb7",
   "metadata": {},
   "outputs": [],
   "source": [
    "def error_compuerta_XOR(x,compuerta):\n",
    "    i = 0\n",
    "    for posible_valor in x:\n",
    "        i += compuerta(posible_valor)\n",
    "        if i >= (len(x[0])*len(x[0])-1):\n",
    "            print('Error: Existen entradas incorrectas o la lógica de la compuerta XOR no es la correcta.')\n",
    "            return i\n",
    "    print(\"No se detectaron errores.\")\n",
    "    return 1"
   ]
  },
  {
   "cell_type": "code",
   "execution_count": 26,
   "id": "8fa51d31",
   "metadata": {},
   "outputs": [
    {
     "name": "stdout",
     "output_type": "stream",
     "text": [
      "No se detectaron errores.\n"
     ]
    },
    {
     "data": {
      "image/png": "[encoded data removed]",
      "text/plain": [
       "<Figure size 432x288 with 1 Axes>"
      ]
     },
     "metadata": {
      "needs_background": "light"
     },
     "output_type": "display_data"
    },
    {
     "name": "stdout",
     "output_type": "stream",
     "text": [
      "         Entrada  Salida\n",
      "0   [0, 0, 0, 0]     0.0\n",
      "1   [0, 0, 0, 1]     1.0\n",
      "2   [0, 0, 1, 0]     1.0\n",
      "3   [0, 0, 1, 1]     1.0\n",
      "4   [0, 1, 0, 0]     1.0\n",
      "5   [0, 1, 0, 1]     1.0\n",
      "6   [0, 1, 1, 0]     1.0\n",
      "7   [0, 1, 1, 1]     1.0\n",
      "8   [1, 0, 0, 0]     1.0\n",
      "9   [1, 0, 0, 1]     1.0\n",
      "10  [1, 0, 1, 0]     1.0\n",
      "11  [1, 0, 1, 1]     1.0\n",
      "12  [1, 1, 0, 0]     1.0\n",
      "13  [1, 1, 0, 1]     1.0\n",
      "14  [1, 1, 1, 0]     1.0\n",
      "15  [1, 1, 1, 1]     0.0\n"
     ]
    }
   ],
   "source": [
    "graficar_compuerta(x,compuerta_XOR,error_compuerta_XOR,'Salida del perceptrón para la compuerta XOR')"
   ]
  },
  {
   "cell_type": "markdown",
   "id": "22e94eb5",
   "metadata": {},
   "source": [
    "Si repetimos algunas combinaciones, nos encontraremos con que la suma de todas las salidas superará $x^2-2$ y nos dará error:"
   ]
  },
  {
   "cell_type": "code",
   "execution_count": 27,
   "id": "a9c05fad",
   "metadata": {},
   "outputs": [],
   "source": [
    "x_error_xor = np.copy(x)\n",
    "x_error_xor = x_error_xor.tolist()\n",
    "x_error_xor.remove([1,1,1,1])\n",
    "x_error_xor.append([1,0,1,1])\n",
    "x_error_xor.append([1,0,0,1])\n",
    "x_error_xor.append([1,0,1,0])\n",
    "x_error_xor.append([1,1,1,1])"
   ]
  },
  {
   "cell_type": "code",
   "execution_count": 28,
   "id": "898ad0cf",
   "metadata": {},
   "outputs": [
    {
     "name": "stdout",
     "output_type": "stream",
     "text": [
      "Error: Existen entradas incorrectas o la lógica de la compuerta XOR no es la correcta.\n",
      "Error: Existen entradas incorrectas o la lógica de la compuerta XOR no es la correcta.\n"
     ]
    },
    {
     "data": {
      "image/png": "[encoded data removed]",
      "text/plain": [
       "<Figure size 432x288 with 1 Axes>"
      ]
     },
     "metadata": {
      "needs_background": "light"
     },
     "output_type": "display_data"
    },
    {
     "name": "stdout",
     "output_type": "stream",
     "text": [
      "         Entrada  Salida\n",
      "0   [0, 0, 0, 0]     0.0\n",
      "1   [0, 0, 0, 1]     1.0\n",
      "2   [0, 0, 1, 0]     1.0\n",
      "3   [0, 0, 1, 1]     1.0\n",
      "4   [0, 1, 0, 0]     1.0\n",
      "5   [0, 1, 0, 1]     1.0\n",
      "6   [0, 1, 1, 0]     1.0\n",
      "7   [0, 1, 1, 1]     1.0\n",
      "8   [1, 0, 0, 0]     1.0\n",
      "9   [1, 0, 0, 1]     1.0\n",
      "10  [1, 0, 1, 0]     1.0\n",
      "11  [1, 0, 1, 1]     1.0\n",
      "12  [1, 1, 0, 0]     1.0\n",
      "13  [1, 1, 0, 1]     1.0\n",
      "14  [1, 1, 1, 0]     1.0\n",
      "15  [1, 0, 1, 1]     1.0\n",
      "16  [1, 0, 0, 1]     1.0\n",
      "17  [1, 0, 1, 0]     1.0\n",
      "18  [1, 1, 1, 1]     0.0\n"
     ]
    }
   ],
   "source": [
    "graficar_compuerta(x_error_xor,compuerta_XOR,error_compuerta_XOR,'Salida del perceptrón para la compuerta XOR')"
   ]
  },
  {
   "cell_type": "markdown",
   "id": "62c7cdde",
   "metadata": {},
   "source": [
    "#### 4.2. Perceptrón con el dataset 'letters.csv'\n",
    "Para trabajar con el perceptrón, usaremos la función definida en la sección 3 para poder armar un dataframe que contenga dos columnas: la letra clasificada, y la salida del perceptrón.\n",
    "\n",
    "En esa función debemos ingresar el conjunto de datos a usar, los pesos $\\text{w}$ y también un valor $b$. Para sistematizar la búsqueda de valores óptimos para los pesos y para el valor $b$, sabemos que idealmente tendremos una clasificación 100% correcta para la letra ``o`` y la letra ``l``, lo que llevado a números equivale a $1.0$ para cada una, por lo tanto, si sumamos esto, sabemos que el valor ideal de la suma de los valores óptimos de ``o`` y ``l`` será $2.0$, e iremos probando con números cercanos a esa cifra:"
   ]
  },
  {
   "cell_type": "code",
   "execution_count": 29,
   "id": "2d59136f",
   "metadata": {},
   "outputs": [],
   "source": [
    "def evaluacion_perceptron_datos(suma_optima_a_buscar):\n",
    "    for i in range(1,11):\n",
    "        for j in range(1,11):\n",
    "            for k in range(1,11):\n",
    "                for l in [-1,1]:\n",
    "                    df_salida = pd.DataFrame(perceptron_datos(datos,[1/i,1/j],l*1/k), columns=['Letra','Salida','x_1','x_2'])\n",
    "                    o_en_cero = 0\n",
    "                    o_en_uno = 0\n",
    "                    l_en_cero = 0\n",
    "                    l_en_uno = 0\n",
    "                    for valor in df_salida.values:\n",
    "                        if (valor[0] == 'o'):\n",
    "                            if valor[1] == 0.0:\n",
    "                                o_en_cero += 1\n",
    "                            else:\n",
    "                                o_en_uno += 1\n",
    "                        else:\n",
    "                            if valor[1] == 0.0:\n",
    "                                l_en_cero += 1\n",
    "                            else:\n",
    "                                l_en_uno += 1\n",
    "                    if o_en_cero/(o_en_cero+o_en_uno) + l_en_uno/(l_en_cero+l_en_uno) > suma_optima_a_buscar:\n",
    "                        print(\"¡Valores encontrados!\")\n",
    "                        print(\"Peso w_1: \" + str(1/i))\n",
    "                        print(\"Peso w_2: \" + str(1/j))\n",
    "                        print(\"Valor b: \" + str(l*1/k))"
   ]
  },
  {
   "cell_type": "markdown",
   "id": "de37be88",
   "metadata": {},
   "source": [
    "Buscamos primero si existen valores que nos entreguen la clasificación perfecta, es decir, sin errores:"
   ]
  },
  {
   "cell_type": "code",
   "execution_count": 30,
   "id": "91893616",
   "metadata": {},
   "outputs": [],
   "source": [
    "evaluacion_perceptron_datos(2.0)"
   ]
  },
  {
   "cell_type": "markdown",
   "id": "f9bb22f7",
   "metadata": {},
   "source": [
    "Y al no recibir valores de vuelta, bajamos la cifra a $1.8$:"
   ]
  },
  {
   "cell_type": "code",
   "execution_count": 31,
   "id": "bbcf76dd",
   "metadata": {},
   "outputs": [],
   "source": [
    "evaluacion_perceptron_datos(1.8)"
   ]
  },
  {
   "cell_type": "markdown",
   "id": "76cd9ede",
   "metadata": {},
   "source": [
    "Sigue muy alto, así que probaremos con $1.7$:"
   ]
  },
  {
   "cell_type": "code",
   "execution_count": 32,
   "id": "3aabd520",
   "metadata": {},
   "outputs": [
    {
     "name": "stdout",
     "output_type": "stream",
     "text": [
      "¡Valores encontrados!\n",
      "Peso w_1: 0.3333333333333333\n",
      "Peso w_2: 0.1\n",
      "Valor b: -0.25\n",
      "¡Valores encontrados!\n",
      "Peso w_1: 0.25\n",
      "Peso w_2: 0.1\n",
      "Valor b: -0.2\n"
     ]
    }
   ],
   "source": [
    "evaluacion_perceptron_datos(1.7)"
   ]
  },
  {
   "cell_type": "markdown",
   "id": "669f0925",
   "metadata": {},
   "source": [
    "Y en esta ocasión sí encontramos valores que nos darán muy poco error. Revisamos si podemos discriminar entre cuál de las dos combinaciones de valores del perceptrón será mejor y subimos un poco hasta $1.73$:"
   ]
  },
  {
   "cell_type": "code",
   "execution_count": 33,
   "id": "d6b9834c",
   "metadata": {},
   "outputs": [
    {
     "name": "stdout",
     "output_type": "stream",
     "text": [
      "¡Valores encontrados!\n",
      "Peso w_1: 0.3333333333333333\n",
      "Peso w_2: 0.1\n",
      "Valor b: -0.25\n"
     ]
    }
   ],
   "source": [
    "evaluacion_perceptron_datos(1.73)"
   ]
  },
  {
   "cell_type": "markdown",
   "id": "876e627d",
   "metadata": {},
   "source": [
    "Y ahora que solo tenemos una única combinación de valores, los ingresaremos en nuestro perceptrón para obtener los mejores resultados posibles según los datos y el trabajo previo:"
   ]
  },
  {
   "cell_type": "code",
   "execution_count": 34,
   "id": "7c8782a3",
   "metadata": {},
   "outputs": [],
   "source": [
    "df_salida = perceptron_datos(datos,[0.3333333333333333,0.1],-0.25)"
   ]
  },
  {
   "cell_type": "markdown",
   "id": "6053dbd1",
   "metadata": {},
   "source": [
    "Creamos la siguiente función para encontrar todos los valores importantes en la evaluación de nuestro modelo:"
   ]
  },
  {
   "cell_type": "code",
   "execution_count": 35,
   "id": "c1a3d051",
   "metadata": {},
   "outputs": [],
   "source": [
    "def checkearErrores(df_salida):\n",
    "    o_en_cero = 0\n",
    "    o_en_uno = 0\n",
    "    l_en_cero = 0\n",
    "    l_en_uno = 0\n",
    "    for valor in df_salida:\n",
    "        if (valor[0] == 'o'):\n",
    "            if valor[1] == 0.0:\n",
    "                o_en_cero += 1\n",
    "            else:\n",
    "                o_en_uno += 1\n",
    "        else:\n",
    "            if valor[1] == 0.0:\n",
    "                l_en_cero += 1\n",
    "            else:\n",
    "                l_en_uno += 1\n",
    "    print('La cantidad de letras \"o\" clasificadas como 0 es: ' + str(o_en_cero))\n",
    "    print('La cantidad de letras \"o\" clasificadas como 1 es: ' + str(o_en_uno))\n",
    "    print('La cantidad de letras \"l\" clasificadas como 0 es: ' + str(l_en_cero))\n",
    "    print('La cantidad de letras \"l\" clasificadas como 1 es: ' + str(l_en_uno))\n",
    "    print('La precisión para clasificar \"o\" como 0 es: ' + str(o_en_cero/(o_en_cero+o_en_uno)))\n",
    "    print('La precisión para clasificar \"l\" como 1 es: ' + str(l_en_uno/(l_en_cero+l_en_uno)))\n",
    "    print('El error para clasificar \"o\" como 0 es: ' + str(1-o_en_cero/(o_en_cero+o_en_uno)))\n",
    "    print('El error para clasificar \"l\" como 1 es: ' + str(1-l_en_uno/(l_en_cero+l_en_uno)))"
   ]
  },
  {
   "cell_type": "code",
   "execution_count": 36,
   "id": "0b7d69a8",
   "metadata": {},
   "outputs": [
    {
     "name": "stdout",
     "output_type": "stream",
     "text": [
      "La cantidad de letras \"o\" clasificadas como 0 es: 66\n",
      "La cantidad de letras \"o\" clasificadas como 1 es: 24\n",
      "La cantidad de letras \"l\" clasificadas como 0 es: 0\n",
      "La cantidad de letras \"l\" clasificadas como 1 es: 10\n",
      "La precisión para clasificar \"o\" como 0 es: 0.7333333333333333\n",
      "La precisión para clasificar \"l\" como 1 es: 1.0\n",
      "El error para clasificar \"o\" como 0 es: 0.2666666666666667\n",
      "El error para clasificar \"l\" como 1 es: 0.0\n"
     ]
    }
   ],
   "source": [
    "checkearErrores(df_salida)"
   ]
  },
  {
   "cell_type": "markdown",
   "id": "e7d45787",
   "metadata": {},
   "source": [
    "Y así obtuvimos que el error para clasificar la letra ``o`` como $0$ es $0.26\\dots$, mientras que clasificar ``l`` como $1$ no entrega ningún error, por lo tanto es una clasificación perfecta en base a los datos usados. Gráficamente, podemos ver esto en una matriz de confusión:"
   ]
  },
  {
   "cell_type": "code",
   "execution_count": 37,
   "id": "e804717b",
   "metadata": {},
   "outputs": [
    {
     "data": {
      "text/plain": [
       "<AxesSubplot:>"
      ]
     },
     "execution_count": 37,
     "metadata": {},
     "output_type": "execute_result"
    },
    {
     "data": {
      "image/png": "[encoded data removed]",
      "text/plain": [
       "<Figure size 720x504 with 2 Axes>"
      ]
     },
     "metadata": {
      "needs_background": "light"
     },
     "output_type": "display_data"
    }
   ],
   "source": [
    "array = [[0.7333333333333333,0.2666666666666667],[0.0,1.0]]\n",
    "df_cm = pd.DataFrame(array, index = [i for i in \"ol\"],\n",
    "                  columns = [i for i in \"01\"])\n",
    "plt.figure(figsize = (10,7))\n",
    "sn.heatmap(df_cm, annot=True, cmap=\"OrRd\")"
   ]
  },
  {
   "cell_type": "markdown",
   "id": "86204254",
   "metadata": {},
   "source": [
    "Finalmente, graficándo esto en un plano, tenemos:"
   ]
  },
  {
   "cell_type": "code",
   "execution_count": 48,
   "id": "3b50f808",
   "metadata": {},
   "outputs": [
    {
     "data": {
      "image/png": "[encoded data removed]",
      "text/plain": [
       "<Figure size 432x288 with 1 Axes>"
      ]
     },
     "metadata": {
      "needs_background": "light"
     },
     "output_type": "display_data"
    }
   ],
   "source": [
    "df_salida = pd.DataFrame(df_salida)\n",
    "#X = df_salida[0]\n",
    "y = df_salida[1]\n",
    "\n",
    "x1 = df_salida[2]\n",
    "x2 = df_salida[3]\n",
    "color = ['r' if value == 1 else 'b' for value in y]\n",
    "plt.scatter(x1, x2, marker='o', color=color)\n",
    "plt.xlabel('Valores $x_1$')\n",
    "plt.ylabel('Valores $x_2$')\n",
    "plt.title('Clasificación dada por el perceptrón')\n",
    "\n",
    "a = -0.3333333333333333/0.1\n",
    "xx = np.linspace(-5, 5)\n",
    "yy = a * xx + 0.25/0.1\n",
    "plt.xlim([-0.2, 1.2])\n",
    "plt.ylim([-0.2, 1.2])\n",
    "plt.plot(xx,yy)\n",
    "plt.show()"
   ]
  },
  {
   "cell_type": "markdown",
   "id": "f3704414",
   "metadata": {},
   "source": [
    "Donde para generar la línea divisora entre los dos tipos de valores clasificados, hubo que hacer el siguiente cálculo en base a los pesos $\\text{w}$ y el valor $b$:\n",
    "\n",
    "$$\n",
    "y(x) = \\frac{w_1 \\cdot b \\cdot x}{w_2^2} = \\frac{-0.\\bar{3}\\cdot0.25\\cdot x}{0.01}\n",
    "$$\n",
    "\n"
   ]
  },
  {
   "cell_type": "code",
   "execution_count": null,
   "id": "324ef5dc",
   "metadata": {},
   "outputs": [],
   "source": []
  },
  {
   "cell_type": "markdown",
   "id": "96f33003",
   "metadata": {},
   "source": [
    "### 5. Análisis\n",
    ">Analizar y concluír sobre los resultados obtenidos en los pasos 2, 3 y 4."
   ]
  },
  {
   "cell_type": "markdown",
   "id": "e51ab067",
   "metadata": {},
   "source": [
    "<!-- Respecto a la compuerta AND y OR, sabemos que el perceptrón devolverá $1$ para cualquier valor entrante mayor o igual que $0$, así que decidimos asignarle el valor $-1.9$ a $b$ para que el resultado de la suma $x_1w_1+x_2w_2+b$ sea $0.1$ solo cuando se cumpla simultáneamente que $x_1=1$ y $x_2=1$. Al analizarlo con el código dentro del $\\text{for}$ en la misma celda donde definimos la función, pudimos comprobar que la compuerta funciona correctamente. -->"
   ]
  },
  {
   "cell_type": "code",
   "execution_count": null,
   "id": "6e4f964f",
   "metadata": {},
   "outputs": [],
   "source": []
  },
  {
   "cell_type": "code",
   "execution_count": null,
   "id": "d8b6ced5",
   "metadata": {},
   "outputs": [],
   "source": []
  }
 ],
 "metadata": {
  "kernelspec": {
   "display_name": "Python 3",
   "language": "python",
   "name": "python3"
  },
  "language_info": {
   "codemirror_mode": {
    "name": "ipython",
    "version": 3
   },
   "file_extension": ".py",
   "mimetype": "text/x-python",
   "name": "python",
   "nbconvert_exporter": "python",
   "pygments_lexer": "ipython3",
   "version": "3.9.1"
  }
 },
 "nbformat": 4,
 "nbformat_minor": 5
}
